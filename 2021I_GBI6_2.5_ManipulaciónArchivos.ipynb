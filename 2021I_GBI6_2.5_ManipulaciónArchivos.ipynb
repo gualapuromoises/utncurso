{
 "cells": [
  {
   "cell_type": "markdown",
   "metadata": {
    "id": "YLfobSJdAG01"
   },
   "source": [
    "### <center><h2> INGENIERÍA EN BIOTECNOLOGÍA</h2></center>\n",
    "# <center><h1 style=\"color:red\">GBI6 - BIOINFORMÁTICA</h1></center>\n",
    "\n",
    "<img src=\"https://www.ikiam.edu.ec/img/logo-ikiam-grey.png\" width=400 height=300 />\n",
    "\n",
    "# MANIPULACIÓN DE ARCHIVOS"
   ]
  },
  {
   "cell_type": "markdown",
   "metadata": {
    "id": "PG8-R3oHAG1C"
   },
   "source": [
    "Los datos con los que trabajamos en ciencias de la vida se almacenan en archivos, por lo que si vamos a escribir programas útiles, necesitamos una forma de extraer los datos de los archivos y llevarlos a nuestros programas (y viceversa). Por ejemplo si empezamos a manipular secuencias de ADN (extensas), no es es posible copiar y pegar en el script la secuencia cada vez que deseamos manipular. En su lugar podemos abrir los archivos de la secuencia o secuencias completas con facilidad. \n",
    "\n",
    "Los datos biológicos en sus diferentes formatos son en general guardados como `archivos de texto`, que son relativamente simples de procesar con Python. Entre los principales tendremos secuencias de `ADN` y `proteínas`, que se pueden almacenar en una variedad de formatos. Pero además, en Python se puede leer otros datos como : lecturas de secuenciación, puntuaciones de calidad, SNP, árboles filogenéticos, mapas de lectura, datos de muestras geográficas, matrices de distancia genética, imágenes de microscopía, videos o audios. \n",
    "\n",
    "| Formato archivo | Extensión | Secuencias|\n",
    "| --- | ---|--- | \n",
    "| FASTA | .fa, .fasta .fsa| DNA y proteína, dos líneas: |\n",
    "| FASTAQ | .fastq, .sanfastq, .fq| Lectura de secuencias de DNA Sanger format, cuatro líneas|\n",
    "| SAM | .sam| Mapa de alineamiento de secuencias|\n",
    "| BAM | .sam| Mapa de alineamiento de secuencias binario|\n",
    "| VCF | .vcf| Variant Calling Format|\n",
    "| GFF | .gff2, .gff3, .gff| Gene Finding Format|\n",
    "| GTF | .gtf| Gene Transfer Format|\n",
    "| MOV | .mov| Live cell video|\n",
    "\n",
    "[File Formats Tutorial](https://bioinformatics.uconn.edu/resources-and-events/tutorials-2/file-formats-tutorial/#)\n",
    "\n",
    "\n",
    "Otra razón importante de utilizar `archivos como entrada y salida` de los procesos en Bioinformática es la necesidad de que los programas a escribir en Python funcionen como un flujo de trabajo `PIPELINE`. \n",
    "\n",
    "<img src=\"https://oup.silverchair-cdn.com/oup/backfile/Content_public/Journal/gigascience/6/8/10.1093_gigascience_gix057/3/m_gix057fig1.jpeg?Expires=1629611735&Signature=YmlzI53p1tK0hfXMOPaFcHGtFcgo8MIHSOVpiV0GxXvFJ42EWFdGnfrMth1IGGabcI99mFcCRTftI0SxxFqBMosKzOo8pS~zzeOUD3IKDU~PLyU9w5Abz8GYRFJwUKqMbK3cqNGy2EtOilDqCASiv8UWn19QZglTsCfGqA5rWawM54mQ3vIkcnhTlZ~E~ectz4rjcTRZWAZs2uSLe7SXcvmh7SkcVjLPs-rsM027Q30rpTPX8eKFLzlmX24q3UF-NIbrOe1KGHQWCpCeq3vOUamjygJDcPRf190ug7qtoTPGk6RVp5xUkTHGcgYxTulVfPBmfPUr33kr1A66kBkVqg__&Key-Pair-Id=APKAIE5G5CRDK6RD3PGA\" width=600 height=800 />\n",
    "\n",
    "[Transcriptome analysis of the response of Burmese python to digestion (USING PYTHON)](https://doi.org/10.1093/gigascience/gix057)\n",
    "\n",
    "<img src=\"https://media.springernature.com/lw685/springer-static/image/art%3A10.1186%2F1471-2105-14-201/MediaObjects/12859_2013_Article_5962_Fig2_HTML.jpg?as=webp\" width=600 height=300 />\n",
    "\n",
    "[Bioinformatic pipelines in Python with Leaf](https://doi.org/10.1186/1471-2105-14-201)\n",
    "\n",
    "\n",
    "Usualmente lo que se busca es que Python acepte o proporcione datos de otro programa. Usualmente, la forma más fácil es hacer que Python lea o escriba archivos en un formato que el otro programa ya comprenda. En programación, cuando se habla de archivos de texto, no necesariamente es legible por humanos. Más bien, estamos hablando de un archivo que contiene caracteres y líneas, algo que puede abrir y ver en un editor de texto, independientemente de si realmente el usuario puede darle sentido al archivo (FASTA, FASTQ, HTML, XML, JSON, WORD, TXT, CSV). Tambien se tiene otros formatos de tipo binario (JPG, TIFF, PNG, MOV, HDF5, AUDIO). \n"
   ]
  },
  {
   "cell_type": "code",
   "execution_count": 3,
   "metadata": {},
   "outputs": [
    {
     "data": {
      "text/plain": [
       "7"
      ]
     },
     "execution_count": 3,
     "metadata": {},
     "output_type": "execute_result"
    }
   ],
   "source": [
    "3 + 4"
   ]
  },
  {
   "cell_type": "code",
   "execution_count": 5,
   "metadata": {},
   "outputs": [
    {
     "data": {
      "text/plain": [
       "7"
      ]
     },
     "execution_count": 5,
     "metadata": {},
     "output_type": "execute_result"
    }
   ],
   "source": [
    "a = 3 + 4\n",
    "a"
   ]
  },
  {
   "cell_type": "code",
   "execution_count": 7,
   "metadata": {},
   "outputs": [],
   "source": [
    "lista = [1, 2, 3, 4, 5]\n",
    "seq = \"ATCTGCGTCGA\""
   ]
  },
  {
   "cell_type": "markdown",
   "metadata": {
    "id": "HXXYb1ijAG1F"
   },
   "source": [
    "\n",
    "## Lectura de archivos\n",
    "\n",
    "En Python, como en cualquier otro programa (inclusive en el mundo físico), tenemos que abrir un archivo antes de poder leer su contenido. La función de Python que realiza el trabajo de abrir un archivo se llama `open()`. Esta función toma dos argumento que toma dos argumentos: \n",
    "\n",
    "1. Texto que indica el nombre del archivo, o ruta cualquiera. \n",
    "2. el tipo de apertura. Luego devuelve un objeto de archivo. Los tipos de apertura son:\n",
    "    * `r` de **r**ead, si no se coloca este argumento, es el tipo por defecto\n",
    "    * `w` de **w**rite \n",
    "    * `a` de **a**ppend \n",
    "    * `r+` para leer y escribir al mismo tiempo\n",
    "\n",
    "Finalmente se devueleve el objeto del archivo. \n",
    "\n",
    "```python \n",
    "file = open(\"filename.ext\", \"r\")\n",
    "```\n",
    "\n",
    "Se abre / crea el archivo `filename.txt` en modo de lectura y se guarda en la variable `file`."
   ]
  },
  {
   "cell_type": "code",
   "execution_count": 10,
   "metadata": {
    "colab": {
     "base_uri": "https://localhost:8080/",
     "height": 203
    },
    "executionInfo": {
     "elapsed": 106,
     "status": "error",
     "timestamp": 1626819852642,
     "user": {
      "displayName": "Josselyn Aracely Ortega Pila",
      "photoUrl": "",
      "userId": "07148285106586579386"
     },
     "user_tz": 300
    },
    "id": "bp3iuyFdAG1H",
    "outputId": "0f235a62-4ab2-4e17-df4f-28d04ece1e9d"
   },
   "outputs": [
    {
     "name": "stdout",
     "output_type": "stream",
     "text": [
      "<_io.TextIOWrapper name='dnafile.txt' mode='w' encoding='cp1252'>\n",
      "dnafile.txt\n",
      "w\n",
      "cp1252\n"
     ]
    }
   ],
   "source": [
    "f1 = open(\"dnafile.txt\", \"w\")\n",
    "print(f1)\n",
    "print(f1.name) #indica el archivo asignado a la variable\n",
    "print(f1.mode) # indica el tipo de apertura\n",
    "print(f1.encoding) # indica como es la interpretación que Python da a la información del archivo, por ejemplo UTF.8"
   ]
  },
  {
   "cell_type": "code",
   "execution_count": 12,
   "metadata": {
    "executionInfo": {
     "elapsed": 27,
     "status": "aborted",
     "timestamp": 1626819852587,
     "user": {
      "displayName": "Josselyn Aracely Ortega Pila",
      "photoUrl": "",
      "userId": "07148285106586579386"
     },
     "user_tz": 300
    },
    "id": "4-e5VKdMAG1M"
   },
   "outputs": [
    {
     "ename": "FileNotFoundError",
     "evalue": "[Errno 2] No such file or directory: 'dnafile.csv'",
     "output_type": "error",
     "traceback": [
      "\u001b[1;31m---------------------------------------------------------------------------\u001b[0m",
      "\u001b[1;31mFileNotFoundError\u001b[0m                         Traceback (most recent call last)",
      "\u001b[1;32m~\\AppData\\Local\\Temp/ipykernel_18776/3368223535.py\u001b[0m in \u001b[0;36m<module>\u001b[1;34m\u001b[0m\n\u001b[1;32m----> 1\u001b[1;33m \u001b[0mf2\u001b[0m \u001b[1;33m=\u001b[0m \u001b[0mopen\u001b[0m\u001b[1;33m(\u001b[0m\u001b[1;34m\"dnafile.csv\"\u001b[0m\u001b[1;33m,\u001b[0m \u001b[1;34m'r'\u001b[0m\u001b[1;33m)\u001b[0m \u001b[1;31m# para leer el archivo tiene que existir\u001b[0m\u001b[1;33m\u001b[0m\u001b[1;33m\u001b[0m\u001b[0m\n\u001b[0m\u001b[0;32m      2\u001b[0m \u001b[0mprint\u001b[0m\u001b[1;33m(\u001b[0m\u001b[0mf2\u001b[0m\u001b[1;33m)\u001b[0m\u001b[1;33m\u001b[0m\u001b[1;33m\u001b[0m\u001b[0m\n",
      "\u001b[1;31mFileNotFoundError\u001b[0m: [Errno 2] No such file or directory: 'dnafile.csv'"
     ]
    }
   ],
   "source": [
    "f2 = open(\"dnafile.csv\", 'r') # para leer el archivo tiene que existir\n",
    "print(f2)"
   ]
  },
  {
   "cell_type": "code",
   "execution_count": 13,
   "metadata": {
    "executionInfo": {
     "elapsed": 34,
     "status": "aborted",
     "timestamp": 1626819852594,
     "user": {
      "displayName": "Josselyn Aracely Ortega Pila",
      "photoUrl": "",
      "userId": "07148285106586579386"
     },
     "user_tz": 300
    },
    "id": "_478FdgFAG1N"
   },
   "outputs": [
    {
     "name": "stdout",
     "output_type": "stream",
     "text": [
      "<_io.TextIOWrapper name='dnafile.csv' mode='w' encoding='cp1252'>\n"
     ]
    }
   ],
   "source": [
    "f2 = open(\"dnafile.csv\", 'w')\n",
    "print(f2)"
   ]
  },
  {
   "cell_type": "markdown",
   "metadata": {
    "id": "2PzpC2VRAG1R"
   },
   "source": [
    "Un archivo tiene el ciclo de `abrir - leer - modificar - cerrar`, por ejemplo:\n",
    "\n",
    "```python \n",
    "s1 = open(\"seqA.fas\", \"r+\")\n",
    "# modificaciones en s1 \n",
    "s1.read()\n",
    "s1.close()\n",
    "\n",
    "```\n",
    "La alternativa para asegurarse que se cierra el documento sin colocarlo explicitamente es utilizando `with`: \n",
    "```python \n",
    "with open(\"seqA.fas\", \"r+\") as s1:\n",
    "    # modificaciones\n",
    "    s1.read()\n",
    "\n",
    "# en esta línea empieza otra instrucción, se ha cerrado s1\n",
    "\n",
    "```\n",
    "\n",
    "\n",
    "En la apertura para leer, se tiene los siguientes métodos de lectura: \n",
    "\n",
    "* **read(n)**, lee la cantidad de bytes que contiene el archivo (tamaño del documento).\n",
    "* **read()**, lee todo el documento, problema de memoria con archivos muy grandes.\n",
    "* **readline()**, retorna una sola línea del documento y agrega la terminación de línea `\\n`.\n",
    "* **readlines()**, retorna cada una de las líneas del texto indicando el índice de línea. \n"
   ]
  },
  {
   "cell_type": "code",
   "execution_count": 17,
   "metadata": {
    "executionInfo": {
     "elapsed": 64,
     "status": "aborted",
     "timestamp": 1626819852625,
     "user": {
      "displayName": "Josselyn Aracely Ortega Pila",
      "photoUrl": "",
      "userId": "07148285106586579386"
     },
     "user_tz": 300
    },
    "id": "pCIypO7RAG1T"
   },
   "outputs": [
    {
     "data": {
      "text/plain": [
       "'D:\\\\GDrive\\\\IKIAM\\\\CLASES\\\\2021II\\\\2021II_GBI6\\\\2021II_Clases\\\\2021II_Python'"
      ]
     },
     "execution_count": 17,
     "metadata": {},
     "output_type": "execute_result"
    }
   ],
   "source": [
    "# Creamos un archivo vacío\n",
    "#s1 = open(\"seqA.fas\", \"r\")\n",
    "#s1.close() # cerramos para editar\n",
    "%pwd"
   ]
  },
  {
   "cell_type": "code",
   "execution_count": 1,
   "metadata": {
    "colab": {
     "base_uri": "https://localhost:8080/",
     "height": 203
    },
    "executionInfo": {
     "elapsed": 218,
     "status": "error",
     "timestamp": 1626821585700,
     "user": {
      "displayName": "Josselyn Aracely Ortega Pila",
      "photoUrl": "",
      "userId": "07148285106586579386"
     },
     "user_tz": 300
    },
    "id": "hv2gr_H6AG1U",
    "outputId": "b6585b35-2343-479c-f65d-d0f1d3a35c92"
   },
   "outputs": [
    {
     "name": "stdout",
     "output_type": "stream",
     "text": [
      ">O00626|HUMAN Small inducible cytokine A22\n",
      "MARLQTALLVVLVLLAVALQATEAGPYGANMEDSVCCRDYVRYRLPLRVVKHFYWTSDS<=\n",
      "CPRPGVVLLTFRDKEICADPR\n",
      "VPWVKMILNKLSQ\n",
      "Variable   Type             Data/Info\n",
      "-------------------------------------\n",
      "s1         TextIOWrapper    <_io.TextIOWrapper name='<...>de='r' encoding='cp1252'>\n"
     ]
    }
   ],
   "source": [
    "s1 = open(\"2021I_2.5_ManipulacionArchivosPython/seqA.fas\", \"r\")\n",
    "print(s1.read())\n",
    "s1.close()\n",
    "3+2\n",
    "%whos"
   ]
  },
  {
   "cell_type": "code",
   "execution_count": 2,
   "metadata": {
    "executionInfo": {
     "elapsed": 66,
     "status": "aborted",
     "timestamp": 1626819852629,
     "user": {
      "displayName": "Josselyn Aracely Ortega Pila",
      "photoUrl": "",
      "userId": "07148285106586579386"
     },
     "user_tz": 300
    },
    "id": "0ulWW4-AAG1X"
   },
   "outputs": [
    {
     "name": "stdout",
     "output_type": "stream",
     "text": [
      ">O00626|HUMAN Small inducible cytokine A22\n",
      "MARLQTALLVVLVLLAVALQATEAGPYGANMEDSVCCRDYVRYRLPLRVVKHFYWTSDS<=\n",
      "CPRPGVVLLTFRDKEICADPR\n",
      "VPWVKMILNKLSQ\n"
     ]
    },
    {
     "data": {
      "text/plain": [
       "5"
      ]
     },
     "execution_count": 2,
     "metadata": {},
     "output_type": "execute_result"
    }
   ],
   "source": [
    "with open(\"2021I_2.5_ManipulacionArchivosPython/seqA.fas\", \"r\") as s1:\n",
    "    print(s1.read())\n",
    "\n",
    "#otra istrucción\n",
    "2+3"
   ]
  },
  {
   "cell_type": "code",
   "execution_count": 5,
   "metadata": {
    "executionInfo": {
     "elapsed": 67,
     "status": "aborted",
     "timestamp": 1626819852630,
     "user": {
      "displayName": "Josselyn Aracely Ortega Pila",
      "photoUrl": "",
      "userId": "07148285106586579386"
     },
     "user_tz": 300
    },
    "id": "VFf6u1AjAG1Z"
   },
   "outputs": [
    {
     "name": "stdout",
     "output_type": "stream",
     "text": [
      "El nombre de la secuencia es: O00626|HUMAN Small inducible cytokine A22\n",
      "La secuencia es: MARLQTALLVVLVLLAVALQATEAGPYGANMEDSVCCRDYVRYRLPLRVVKHFYWTSDS<=CPRPGVVLLTFRDKEICADPRVPWVKMILNKLSQ\n"
     ]
    }
   ],
   "source": [
    "with open(\"2021I_2.5_ManipulacionArchivosPython/seqA.fas\") as fh:\n",
    "    s1 = fh.read()\n",
    "name = s1.split(\"\\n\")[0][1:]\n",
    "sequence = \"\".join(s1.split(\"\\n\")[1:])\n",
    "print(\"El nombre de la secuencia es: {0}\".format(name))\n",
    "print(\"La secuencia es: {0}\".format(sequence))"
   ]
  },
  {
   "cell_type": "code",
   "execution_count": 31,
   "metadata": {
    "executionInfo": {
     "elapsed": 67,
     "status": "aborted",
     "timestamp": 1626819852631,
     "user": {
      "displayName": "Josselyn Aracely Ortega Pila",
      "photoUrl": "",
      "userId": "07148285106586579386"
     },
     "user_tz": 300
    },
    "id": "Z1uHD9tOAG1Z"
   },
   "outputs": [
    {
     "name": "stdout",
     "output_type": "stream",
     "text": [
      "El nombre de la secuencia es: O00626|HUMAN Small inducible cytokine A22\n",
      "La secuencia es: MARLQTALLVVLVLLAVALQATEAGPYGANMEDSVCCRDYVRYRLPLRVVKHFYWTSDS<=CPRPGVVLLTFRDKEICADPRVPWVKMILNKLSQ\n"
     ]
    }
   ],
   "source": [
    "# mejor alternativa para la memoria, utilizando readlines()\n",
    "\n",
    "sequence = \"\"\n",
    "with open(\"2021I_2.5_ManipulacionArchivosPython/seqA.fas\") as s1:\n",
    "    name = s1.readline()[1:-1]\n",
    "    for line in s1:\n",
    "        sequence += line.replace(\"\\n\",\"\")\n",
    "print(\"El nombre de la secuencia es: {0}\".format(name))\n",
    "print(\"La secuencia es: {0}\".format(sequence))\n",
    "    "
   ]
  },
  {
   "cell_type": "code",
   "execution_count": null,
   "metadata": {
    "executionInfo": {
     "elapsed": 69,
     "status": "aborted",
     "timestamp": 1626819852633,
     "user": {
      "displayName": "Josselyn Aracely Ortega Pila",
      "photoUrl": "",
      "userId": "07148285106586579386"
     },
     "user_tz": 300
    },
    "id": "Eif9cLV7AG1a"
   },
   "outputs": [],
   "source": [
    "# Vamos a procesar la información de un archivo\n",
    "# crear archivo\n",
    "#open(\"prot.fas\", 'w') # ejecutar una sola vez"
   ]
  },
  {
   "cell_type": "code",
   "execution_count": 6,
   "metadata": {
    "executionInfo": {
     "elapsed": 70,
     "status": "aborted",
     "timestamp": 1626819852635,
     "user": {
      "displayName": "Josselyn Aracely Ortega Pila",
      "photoUrl": "",
      "userId": "07148285106586579386"
     },
     "user_tz": 300
    },
    "id": "ZkY0OAFmAG1b"
   },
   "outputs": [
    {
     "name": "stdout",
     "output_type": "stream",
     "text": [
      "3.0489999999999977\n"
     ]
    }
   ],
   "source": [
    "sequence = ''\n",
    "charge = 0\n",
    "aa_charge = {'C':-.045, 'D':-.999, 'E':-.998, 'H':.091,\n",
    "'K':1, 'R':1, 'Y':-.001}\n",
    "with open('2021I_2.5_ManipulacionArchivosPython/prot.fas') as fh:\n",
    "    name = fh.readline()\n",
    "    for line in fh:\n",
    "        sequence += line[:-1].upper()\n",
    "for aa in sequence:\n",
    "    charge += aa_charge.get(aa,0)\n",
    "print(charge)"
   ]
  },
  {
   "cell_type": "code",
   "execution_count": 39,
   "metadata": {
    "executionInfo": {
     "elapsed": 71,
     "status": "aborted",
     "timestamp": 1626819852636,
     "user": {
      "displayName": "Josselyn Aracely Ortega Pila",
      "photoUrl": "",
      "userId": "07148285106586579386"
     },
     "user_tz": 300
    },
    "id": "blABUIRbAG1b"
   },
   "outputs": [
    {
     "name": "stdout",
     "output_type": "stream",
     "text": [
      "['>XP_021504584.1 cyclic AMP-responsive element-binding protein 3-like protein 3 isoform X3 [Meriones unguiculatus]\\n']\n"
     ]
    }
   ],
   "source": [
    "f3 = open(\"2021I_2.5_ManipulacionArchivosPython/sequence.fasta\", \"r\")\n",
    "\n",
    "print(f3.readlines(1))\n",
    "\n",
    "f3.close()"
   ]
  },
  {
   "cell_type": "markdown",
   "metadata": {
    "id": "iVMV0ERtAG1d"
   },
   "source": [
    "## Escritura de archivos\n",
    "\n",
    "Para escribir en un archivo se debe tener variables con informacion. Tenemos tres secuencias de ADN en total, por lo que necesitaremos tres variables para contener los encabezados de secuencia y tres más para contener las secuencias en sí mismas:"
   ]
  },
  {
   "cell_type": "code",
   "execution_count": 12,
   "metadata": {
    "id": "fymSdVQ7AG1d"
   },
   "outputs": [],
   "source": [
    "header_1 = \"Joyce\"\n",
    "header_2 = \"DEF456\"\n",
    "header_3 = \"HIJ789\"\n",
    "seq_1 = \"ATCGTACGATCGATCGATCGCTAGACGTATCG\"\n",
    "seq_2 = \"actgatcgacgatcgatcgatcacgact\"\n",
    "seq_3 = \"ACTGAC-ACTGT--ACTGTA----CATGTG\""
   ]
  },
  {
   "cell_type": "code",
   "execution_count": 15,
   "metadata": {
    "id": "0HXG2vwGAG1f",
    "outputId": "166efbef-835c-4c98-d53d-42eca7f0a307"
   },
   "outputs": [
    {
     "name": "stdout",
     "output_type": "stream",
     "text": [
      ">Joyce\n",
      "ATCGTACGATCGATCGATCGCTAGACGTATCG\n",
      ">DEF456\n",
      "actgatcgacgatcgatcgatcacgact\n",
      ">HIJ789\n",
      "ACTGAC-ACTGT--ACTGTA----CATGTG\n",
      ">HIJ789\n",
      "ACTGAC-ACTGT--ACTGTA----CATGTG\n"
     ]
    }
   ],
   "source": [
    "# escribimos las instrucciones en un formato .fasta\n",
    "print('>' + header_1 + '\\n' + seq_1)\n",
    "print('>' + header_2 + '\\n' + seq_2)\n",
    "print('>' + header_3 + '\\n' + seq_3)\n",
    "\n",
    "# corregimos los valores \"_\" de la secuencia 3\n",
    "print('>' + header_3 + '\\n' + seq_3.replace('-', ''))"
   ]
  },
  {
   "cell_type": "code",
   "execution_count": 14,
   "metadata": {
    "id": "gapvNPTaAG1g",
    "outputId": "0eb3f34c-3ee3-419a-c829-30feab8fb585"
   },
   "outputs": [],
   "source": [
    "# Guardamos en un archivo\n",
    "output = open(\"2021I_2.5_ManipulacionArchivosPython/seqs_test.fasta\", \"r+\")\n",
    "output.write('>' + header_1 + '\\n' + seq_1 + '\\n')\n",
    "output.write('>' + header_2 + '\\n' + seq_2.upper()+ '\\n')\n",
    "output.write('>' + header_3 + '\\n' + seq_3.replace('-', ''))\n",
    "output.close()\n",
    "# revisando el archivo \"seqs_test.fasta, se observa que no hay saltos de líneas\""
   ]
  },
  {
   "cell_type": "code",
   "execution_count": 52,
   "metadata": {
    "id": "6ogTY8fwAG1h"
   },
   "outputs": [],
   "source": [
    "# encabezados de las secuencias\n",
    "header_1 = \"ABC123\"\n",
    "header_2 = \"DEF456\"\n",
    "header_3 = \"HIJ789\"\n",
    "# secuencias\n",
    "seq_1 = \"ATCGTACGATCGATCGATCGCTAGACGTATCG\"\n",
    "seq_2 = \"actgatcgacgatcgatcgatcacgact\"\n",
    "seq_3 = \"ACTGAC-ACTGT—ACTGTA----CATGTG\"\n",
    "# nuevo archivo\n",
    "seqs = open(\"seqs_test.fasta\", \"w\")\n",
    "# write the header and sequence for seq1\n",
    "seqs.write('>' + header_1 + '\\n' + seq_1 + '\\n') \n",
    "# write the header and uppercase sequences for seq2\n",
    "seqs.write('>' + header_2 + '\\n' + seq_2.upper() + '\\n') \n",
    "# write the header and sequence for seq3 with hyphens removed\n",
    "seqs.write('>' + header_3 + '\\n' + seq_3.replace('-', '') + '\\n')\n",
    "\n",
    "seqs.close()"
   ]
  },
  {
   "cell_type": "code",
   "execution_count": null,
   "metadata": {
    "id": "UPJ4OwXXAG1i"
   },
   "outputs": [],
   "source": []
  },
  {
   "cell_type": "code",
   "execution_count": 64,
   "metadata": {
    "id": "RG8fBJkNAG1j"
   },
   "outputs": [
    {
     "name": "stdout",
     "output_type": "stream",
     "text": [
      "['>XP_021504584.1 cyclic AMP-responsive element-binding protein 3-like protein 3 isoform X3 [Meriones unguiculatus]', 'MSSPACAMGPLDSVELLDLLFDQQDGILRNVELAEGWSLASEGQKVLPHSDSDDFLTSILGPGDSDPSSPLWSPADSDSG', 'ISEDLPSDPQDTPPRSGAGPADTAARGHPSQQGKGPCPSYLPRTPCPVPPRTQVLESSVAIDLDMWSTDTLYPEEQTGSP', 'SRFNLTVKELLLSGGGGDLQQHSLAASQLLGPGNGHCQELVLTEDEKKLLAKEGVTLPTQLPLTKYEERVLKKIRRKIRN', 'KQSAQESRKKKKEYIDGLESRMSACTAQNQELQRKVLHLEKQNLSLLEQLKHLQALVVQSTSKPAHAGTCIAVLLLSFVL', 'IILPSISPFTSNKADSPGDFAPVRVFSRTLHNHAAPRVAPDVTPGAEVPGPWPDAGTPHQGPPSGSLAADWGNFLEMPML', 'GGPTEELDNSTLLLVNSTEELGRAALLAWLQPLLGPGRVGLQMAEEQMWLSWIPTWLRVRLLQGALGEL', '>XP_021504582.1 cyclic AMP-responsive element-binding protein 3-like protein 3 isoform X1 [Meriones unguiculatus]', 'MDGDRATGKMSSPACAMGPLDSVELLDLLFDQQDGILRNVELAEGWSLASEGQKVLPHSDSDDFLTSILGPGDSDPSSPL', 'WSPADSDSGISEDLPSDPQDTPPRSGAGPADTAARGHPSQQGKGPCPSYLPRTPCPVPPRTQVLESSVAIDLDMWSTDTL', 'YPEEQTGSPSRFNLTVKELLLSGGGGDLQQHSLAASQLLGPGNGHCQELVLTEDEKKLLAKEGVTLPTQLPLTKYEERVL', 'KKIRRKIRNKQSAQESRKKKKEYIDGLESRMSACTAQNQELQRKVLHLEKQNLSLLEQLKHLQALVVQSTSKPAHAGTCI', 'AVLLLSFVLIILPSISPFTSNKADSPGDFAPVRVFSRTLHNHAAPRVAPDVTPGAEVPGPWPDAGTPHQGPPSGSLAADW', 'GNFLEMPMLGGPTEELDNSTLLLVNSTEELGRAALLAWLQPLLGPGRVGLQMAEEQMWLSWIPTWLRVRLLQGALGEL', '>XP_021504583.1 cyclic AMP-responsive element-binding protein 3-like protein 3 isoform X2 [Meriones unguiculatus]', 'MDGDRATGKMSSPACAMGPLDSVELLDLLFDQQDGILRNVELAEGWSLASEGQVLPHSDSDDFLTSILGPGDSDPSSPLW', 'SPADSDSGISEDLPSDPQDTPPRSGAGPADTAARGHPSQQGKGPCPSYLPRTPCPVPPRTQVLESSVAIDLDMWSTDTLY', 'PEEQTGSPSRFNLTVKELLLSGGGGDLQQHSLAASQLLGPGNGHCQELVLTEDEKKLLAKEGVTLPTQLPLTKYEERVLK', 'KIRRKIRNKQSAQESRKKKKEYIDGLESRMSACTAQNQELQRKVLHLEKQNLSLLEQLKHLQALVVQSTSKPAHAGTCIA', 'VLLLSFVLIILPSISPFTSNKADSPGDFAPVRVFSRTLHNHAAPRVAPDVTPGAEVPGPWPDAGTPHQGPPSGSLAADWG', 'NFLEMPMLGGPTEELDNSTLLLVNSTEELGRAALLAWLQPLLGPGRVGLQMAEEQMWLSWIPTWLRVRLLQGALGEL', '>XP_021030093.1 cyclic AMP-responsive element-binding protein 3-like protein 3 [Mus caroli]', 'MDGDIATGKMASPVCAMAPLDSMEVLDLLFDRQDGILRNMELAEGWILAREEQKVLLNSDSDEFLNCILGPGDSDPSSPL', 'WSPADSDSGISEDLPSDPQDTPPRSGTEPANTVARCHTSEQGKGPCPSYLPSTPCPEPPRTQVQESSVAIDLDMWSTDTL', 'YLEEPTGSPSRFNLTVKELLLSGGSGDLQQHSLAASQLLGPGSGHCQELVLTEDEKKLLAKEGVTLPTQLPLTKYEERVL', 'KKIRRKIRNKQSAQESRKKKKEYIDGLENRMSACTAQNQELQRKVLHLEKQNLSLLEQLKHLQALVVQSTSKPAHAGTCI', 'AVLLLSFALIILPSISPFNSNKVDSPGDFVPVRVFSRTLHNHAASRVAPDVTPGSEVPGPWPDVGTPHKGPSSGGLSADW', 'GNFLEIPMLDNPTEELDNSTLVLANSTEDLGRATLLDWVASEPLLSPARVGLEMPGEMWLSWVPRWLRVRVVQDALGVL', '>NP_001369747.1 cyclic AMP-responsive element-binding protein 3-like protein 3 [Mus musculus]', 'MDGDIAAGKMASPVCAMAPLDSMEVLDLLFDRQDGILRNVELAEGWILAREEQKVLLNSDSDEFLNCILGPGDSDPSSPL', 'WSPADSDSGISEDLPSDPQDTPPRSGTEPANTVARCHTREQGKGPCPSYLPSTPCPEPPRTQVQESSVAIDLDMWSTDTL', 'YPEEPAGSPSRFNLTVKELLLSGGSGDLQQHSLAASQLLGPGSGHCQELVLTEDEKKLLAKEGVTLPTQLPLTKYEERVL', 'KKIRRKIRNKQSAQESRKKKKEYIDGLENRMSACTAQNQELQRKVLHLEKQNLSLLEQLKHLQALVVQSTSKPAHAGTCI', 'AVLLLSFALIILPSISPFNSNKVDSPGDFVPVRVFSRTLHNHAASRVAPDVTPGSEVPGPWPDVGTPHKGPSSGGLSADW', 'GNFLEIPMLDNLTEELDNSTLVLANSTEDLGRATLLDWVASEPLLSPGRVGLEIPGEMWLSWVPRWLRVRLVQDALGVL', '>BAC34115.1 unnamed protein product [Mus musculus]', 'MDGDIAAGKMASPVCAMAPLDSMEVLDLLFDRQDGILRNVELAEGWILAREEQKVLLNSDSDEFLNCILGPGDSDPSSPL', 'WSPADSDSGISEDLPSDPQDTPPRSGTEPANTVARCHTREQGKGPCPSYLPSTPCPEPPRTQVQESSVAIDLDMWSTDTL', 'YPEEPAGSPSRFNLTVKELLLSGGSGDLQQHSLAASQLLGPGSGHCQELVLTEDEKKLLAKEGVTLPTQLPLTKYEERVL', 'KKIRRKIRNKQSAQESRKKKKEYIDGLENLMSACTAQNQELQRKVLHLEKQNLSLLEQLKHLQALVVQSTSKPAHAGTCI', 'AVLLLSFALIILPSISPFNSNKVDSPGDFVPVRVFSRTLHNHAASRVAPDVTPGSEVPGPWPDVGTPHKGPSSGGLSADW', 'GNFLEIPMLDNLTEELDNSTLVLANSTEDLGRATLLDWVASEPLLSPGRVGLEIPGEMWLSWVPRWLRVRLVQDALGVL', '>XP_031205744.1 cyclic AMP-responsive element-binding protein 3-like protein 3 [Mastomys coucha]', 'MDGDIATGKMVSPACAMAPLDSMEVLDLLFDRQDGILRNVELSEGWVLTREEQKVLPNSDSDEFLNSILGPGDSDPSSPI', 'WSPADSDSGISEDLPSDPQDTPPRSGTEPANRAVRCHTREQVEGPCPSYLPRTPCPEPPRTHVCDSSVAIDLDMWSTDTL', 'YPEEQSGSPSRFNLTVKELLLSGGGGDLQQHPLAASQLLGPGSGHCQELVLTEDEKKLLAKEGVTLPTQLPLTKYEERVL', 'KKIRRKIRNKQSAQESRKKKKEYIDGLENRMSACTAQNQELQRKVLHLEKQNLSLLEQLKHLQALVVQSTSKPAHAGTCI', 'AVLLLSFVLIILPSISPFNSNKVDSPGDFVPVRVFSRTLHNHAASRVAPDVTPGSEVPGPWPDVGTPHKGSSSGSLSADW', 'GNFLEIPVLDNPTEELDNSTLVLANSTEDLGRATLLDWVASEPLLSPGRVGLEMPREMWLSWVPRWLRVRVVQDALGVL', '>XP_021059908.1 cyclic AMP-responsive element-binding protein 3-like protein 3 [Mus pahari]', 'MDGDVATGKMASPVCAMAPLDSMEVLDLLFDRQDGILRNVELSEGWILAREEQKVLLNSDSDEFLNCILGPGDSDPSSPL', 'WSPADSDSGISEDLPSDPQDTPPRSGTEPANTVARCHTREQGEGPCLSYLPSTPCPEPPRTQVRESSVAIDLDMWSTDTL', 'YPEEQAGSPSRFNLTVKELLLSGGGGDLQQHSLAASQLLGPGSGHCQELVLTEDEKKLLAKEGVTLPTQLPLTKYEERVL', 'KKIRRKIRNKQSAQESRKKKKEYIDGLENRMSACTAQNQELQRKVLHLEKQNLSLLEQLKHLQALVLQSTSKPAHAGTCI', 'AVLLLSFVLIILPSISPFNSNKVDSPGDFVPVRVFSRTLHNHAASRVAPDVTPGSEVPGPWPDVGTPHKGPSSGGGLSAD', 'WGNFLEIPMLDNPTEELDNSTLVLANSTEDLGRATLLDWVASEPLLSPGRLGLEMPGEMWLSWVPRWLRVRVVQDALGVL', 'TG', '>XP_034343263.1 cyclic AMP-responsive element-binding protein 3-like protein 3 [Arvicanthis niloticus]', 'MEGDTASGKMASPACAMAPLDSMEVLDLLFDRQDGILRNVELAEGWLLSREEQKVLPATDSDEFLNSILGPGDSDPSSPI', 'WSPTDSDSGISEDLPSDPQDTPPHSGTGPVNTAARCHPSEQGEGPCPTYLPGSTPCPEPPRTQVRESSVAIDLDMWSTDT', 'LYPEEQTGSPSRFNLTVKELLLSGGGGDLQQHSLATSQLLGPGGGHCQELVLTEDEKKLLAKEGVTLPTQLPLTKYEERV', 'LKKIRRKIRNKQSAQESRKKKKEYIDGLENRMSACTAQNQELQRKVLHLEKQNLSLLEQLKHLQALVVQSTSKPAHAGTC', 'IAVLLLSFVLIVLPSISPFNSNKVDSPGDFVPVRVFSRTLHNHAASRVAPDITPGSEVPGPWPDVGAPHKGSSSSSLSAD', 'WGNFLEIPMLDNQTDELDNSTLVLANATEDLGRATLLDWVASEPLLSPGRVGLEMPGKEIWLSWVPRWLRVRVVRDALGV', 'L', '>XP_035301183.1 cyclic AMP-responsive element-binding protein 3-like protein 3 isoform X2 [Cricetulus griseus]', 'MASPACTMGPLNSLELLDLLFDRQDGILRNVELAEGWGHAGKEQVLPNSDSDDFLNSILGPGDSDPSSPIWSPADSDSGF', 'SEDLPSDPQDTPPHSSPGAANTTARCHPSQQDKGPCPPYLSSAPCPAPPRTQVLESSVAIDLDLWSTDMLYPEEQAGSPS', 'RFNLTVKELLLSGSGGDLQQHSLASSQLLGPGSGHCQELVLTEDEKKLLAKEGVTLPTQLPLTKYEERVLKKIRRKIRNK', 'QSAQESRKKKKEYIDGLENRMSACTAQNQELQRKVLHLEKQNLSLLEQLRHLQALVVQSSSKSAHAGTCIAVLLLSFVLI', 'VLPSISPFDSNKVDSPGDFVPVRVFSRTLHNHAASRVAPDITPGSEVPGPWPDVGTPHKGSPSSSLGADWGNFIEIPMLS', 'DSTEELDNSTLVLVNTTEDLGRATLLDWVALESLLSPGRVGLEMPGMEMWLSWVPRWLRVRLVRGALEVL', ''] \n",
      "\n"
     ]
    }
   ],
   "source": [
    "sequences = []\n",
    "names = []\n",
    "with open('2021I_2.5_ManipulacionArchivosPython/sequence.fasta', 'r+') as fh:\n",
    "    fh = fh.read()\n",
    "    line =  fh.split(\"\\n\")[0:]\n",
    "    if line[0] == '>':\n",
    "        names.append(line)\n",
    "    else:\n",
    "        sequences.append(line)\n",
    "\n",
    "for i in range(len(sequences)):\n",
    "    print(sequences[i], '\\n')\n",
    "f3.close()\n"
   ]
  },
  {
   "cell_type": "code",
   "execution_count": 68,
   "metadata": {
    "id": "6ARsl3JsAG1j"
   },
   "outputs": [
    {
     "data": {
      "text/html": [
       "<div>\n",
       "<style scoped>\n",
       "    .dataframe tbody tr th:only-of-type {\n",
       "        vertical-align: middle;\n",
       "    }\n",
       "\n",
       "    .dataframe tbody tr th {\n",
       "        vertical-align: top;\n",
       "    }\n",
       "\n",
       "    .dataframe thead th {\n",
       "        text-align: right;\n",
       "    }\n",
       "</style>\n",
       "<table border=\"1\" class=\"dataframe\">\n",
       "  <thead>\n",
       "    <tr style=\"text-align: right;\">\n",
       "      <th></th>\n",
       "      <th>0</th>\n",
       "      <th>1</th>\n",
       "      <th>2</th>\n",
       "      <th>3</th>\n",
       "      <th>4</th>\n",
       "      <th>5</th>\n",
       "      <th>6</th>\n",
       "      <th>7</th>\n",
       "      <th>8</th>\n",
       "      <th>9</th>\n",
       "      <th>...</th>\n",
       "      <th>63</th>\n",
       "      <th>64</th>\n",
       "      <th>65</th>\n",
       "      <th>66</th>\n",
       "      <th>67</th>\n",
       "      <th>68</th>\n",
       "      <th>69</th>\n",
       "      <th>70</th>\n",
       "      <th>71</th>\n",
       "      <th>72</th>\n",
       "    </tr>\n",
       "  </thead>\n",
       "  <tbody>\n",
       "    <tr>\n",
       "      <th>0</th>\n",
       "      <td>&gt;XP_021504584.1 cyclic AMP-responsive element-...</td>\n",
       "      <td>MSSPACAMGPLDSVELLDLLFDQQDGILRNVELAEGWSLASEGQKV...</td>\n",
       "      <td>ISEDLPSDPQDTPPRSGAGPADTAARGHPSQQGKGPCPSYLPRTPC...</td>\n",
       "      <td>SRFNLTVKELLLSGGGGDLQQHSLAASQLLGPGNGHCQELVLTEDE...</td>\n",
       "      <td>KQSAQESRKKKKEYIDGLESRMSACTAQNQELQRKVLHLEKQNLSL...</td>\n",
       "      <td>IILPSISPFTSNKADSPGDFAPVRVFSRTLHNHAAPRVAPDVTPGA...</td>\n",
       "      <td>GGPTEELDNSTLLLVNSTEELGRAALLAWLQPLLGPGRVGLQMAEE...</td>\n",
       "      <td>&gt;XP_021504582.1 cyclic AMP-responsive element-...</td>\n",
       "      <td>MDGDRATGKMSSPACAMGPLDSVELLDLLFDQQDGILRNVELAEGW...</td>\n",
       "      <td>WSPADSDSGISEDLPSDPQDTPPRSGAGPADTAARGHPSQQGKGPC...</td>\n",
       "      <td>...</td>\n",
       "      <td>WGNFLEIPMLDNQTDELDNSTLVLANATEDLGRATLLDWVASEPLL...</td>\n",
       "      <td>L</td>\n",
       "      <td>&gt;XP_035301183.1 cyclic AMP-responsive element-...</td>\n",
       "      <td>MASPACTMGPLNSLELLDLLFDRQDGILRNVELAEGWGHAGKEQVL...</td>\n",
       "      <td>SEDLPSDPQDTPPHSSPGAANTTARCHPSQQDKGPCPPYLSSAPCP...</td>\n",
       "      <td>RFNLTVKELLLSGSGGDLQQHSLASSQLLGPGSGHCQELVLTEDEK...</td>\n",
       "      <td>QSAQESRKKKKEYIDGLENRMSACTAQNQELQRKVLHLEKQNLSLL...</td>\n",
       "      <td>VLPSISPFDSNKVDSPGDFVPVRVFSRTLHNHAASRVAPDITPGSE...</td>\n",
       "      <td>DSTEELDNSTLVLVNTTEDLGRATLLDWVALESLLSPGRVGLEMPG...</td>\n",
       "      <td></td>\n",
       "    </tr>\n",
       "  </tbody>\n",
       "</table>\n",
       "<p>1 rows × 73 columns</p>\n",
       "</div>"
      ],
      "text/plain": [
       "                                                  0   \\\n",
       "0  >XP_021504584.1 cyclic AMP-responsive element-...   \n",
       "\n",
       "                                                  1   \\\n",
       "0  MSSPACAMGPLDSVELLDLLFDQQDGILRNVELAEGWSLASEGQKV...   \n",
       "\n",
       "                                                  2   \\\n",
       "0  ISEDLPSDPQDTPPRSGAGPADTAARGHPSQQGKGPCPSYLPRTPC...   \n",
       "\n",
       "                                                  3   \\\n",
       "0  SRFNLTVKELLLSGGGGDLQQHSLAASQLLGPGNGHCQELVLTEDE...   \n",
       "\n",
       "                                                  4   \\\n",
       "0  KQSAQESRKKKKEYIDGLESRMSACTAQNQELQRKVLHLEKQNLSL...   \n",
       "\n",
       "                                                  5   \\\n",
       "0  IILPSISPFTSNKADSPGDFAPVRVFSRTLHNHAAPRVAPDVTPGA...   \n",
       "\n",
       "                                                  6   \\\n",
       "0  GGPTEELDNSTLLLVNSTEELGRAALLAWLQPLLGPGRVGLQMAEE...   \n",
       "\n",
       "                                                  7   \\\n",
       "0  >XP_021504582.1 cyclic AMP-responsive element-...   \n",
       "\n",
       "                                                  8   \\\n",
       "0  MDGDRATGKMSSPACAMGPLDSVELLDLLFDQQDGILRNVELAEGW...   \n",
       "\n",
       "                                                  9   ...  \\\n",
       "0  WSPADSDSGISEDLPSDPQDTPPRSGAGPADTAARGHPSQQGKGPC...  ...   \n",
       "\n",
       "                                                  63 64  \\\n",
       "0  WGNFLEIPMLDNQTDELDNSTLVLANATEDLGRATLLDWVASEPLL...  L   \n",
       "\n",
       "                                                  65  \\\n",
       "0  >XP_035301183.1 cyclic AMP-responsive element-...   \n",
       "\n",
       "                                                  66  \\\n",
       "0  MASPACTMGPLNSLELLDLLFDRQDGILRNVELAEGWGHAGKEQVL...   \n",
       "\n",
       "                                                  67  \\\n",
       "0  SEDLPSDPQDTPPHSSPGAANTTARCHPSQQDKGPCPPYLSSAPCP...   \n",
       "\n",
       "                                                  68  \\\n",
       "0  RFNLTVKELLLSGSGGDLQQHSLASSQLLGPGSGHCQELVLTEDEK...   \n",
       "\n",
       "                                                  69  \\\n",
       "0  QSAQESRKKKKEYIDGLENRMSACTAQNQELQRKVLHLEKQNLSLL...   \n",
       "\n",
       "                                                  70  \\\n",
       "0  VLPSISPFDSNKVDSPGDFVPVRVFSRTLHNHAASRVAPDITPGSE...   \n",
       "\n",
       "                                                  71 72  \n",
       "0  DSTEELDNSTLVLVNTTEDLGRATLLDWVALESLLSPGRVGLEMPG...     \n",
       "\n",
       "[1 rows x 73 columns]"
      ]
     },
     "execution_count": 68,
     "metadata": {},
     "output_type": "execute_result"
    }
   ],
   "source": [
    "import pandas as pd\n",
    "s1 = pd.DataFrame(sequences)\n",
    "s1.head(3)"
   ]
  },
  {
   "cell_type": "code",
   "execution_count": null,
   "metadata": {
    "id": "zyzmm18sAG1k"
   },
   "outputs": [],
   "source": []
  },
  {
   "cell_type": "code",
   "execution_count": null,
   "metadata": {
    "id": "RZ-ShqGCAG1k"
   },
   "outputs": [],
   "source": []
  },
  {
   "cell_type": "code",
   "execution_count": null,
   "metadata": {
    "id": "8r8l2GPVAG1k"
   },
   "outputs": [],
   "source": []
  }
 ],
 "metadata": {
  "colab": {
   "name": "2021I_GBI6_3.1.ManipulaciónArchivos.ipynb",
   "provenance": []
  },
  "kernelspec": {
   "display_name": "Python 3 (ipykernel)",
   "language": "python",
   "name": "python3"
  },
  "language_info": {
   "codemirror_mode": {
    "name": "ipython",
    "version": 3
   },
   "file_extension": ".py",
   "mimetype": "text/x-python",
   "name": "python",
   "nbconvert_exporter": "python",
   "pygments_lexer": "ipython3",
   "version": "3.9.7"
  },
  "latex_envs": {
   "LaTeX_envs_menu_present": true,
   "autoclose": false,
   "autocomplete": true,
   "bibliofile": "biblio.bib",
   "cite_by": "apalike",
   "current_citInitial": 1,
   "eqLabelWithNumbers": true,
   "eqNumInitial": 1,
   "hotkeys": {
    "equation": "Ctrl-E",
    "itemize": "Ctrl-I"
   },
   "labels_anchors": false,
   "latex_user_defs": false,
   "report_style_numbering": false,
   "user_envs_cfg": false
  },
  "toc": {
   "base_numbering": 1,
   "nav_menu": {},
   "number_sections": true,
   "sideBar": true,
   "skip_h1_title": false,
   "title_cell": "Table of Contents",
   "title_sidebar": "Contents",
   "toc_cell": false,
   "toc_position": {
    "height": "calc(100% - 180px)",
    "left": "10px",
    "top": "150px",
    "width": "383.594px"
   },
   "toc_section_display": true,
   "toc_window_display": true
  },
  "toc-autonumbering": false,
  "toc-showcode": false,
  "toc-showmarkdowntxt": true,
  "varInspector": {
   "cols": {
    "lenName": 16,
    "lenType": 16,
    "lenVar": 40
   },
   "kernels_config": {
    "python": {
     "delete_cmd_postfix": "",
     "delete_cmd_prefix": "del ",
     "library": "var_list.py",
     "varRefreshCmd": "print(var_dic_list())"
    },
    "r": {
     "delete_cmd_postfix": ") ",
     "delete_cmd_prefix": "rm(",
     "library": "var_list.r",
     "varRefreshCmd": "cat(var_dic_list()) "
    }
   },
   "types_to_exclude": [
    "module",
    "function",
    "builtin_function_or_method",
    "instance",
    "_Feature"
   ],
   "window_display": false
  }
 },
 "nbformat": 4,
 "nbformat_minor": 4
}
