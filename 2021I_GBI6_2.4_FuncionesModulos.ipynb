{
 "cells": [
  {
   "cell_type": "markdown",
   "metadata": {
    "id": "jZTL55MqWFtb"
   },
   "source": [
    "<center><img src=\"https://www.ikiam.edu.ec/wp-content/uploads/2021/12/logo-ikiam-1.png\" width=200 height=100 /></center>\n",
    "<center><h2> INGENIERÍA EN BIOTECNOLOGÍA</h2></center>\n",
    "<center><h1 style=\"color:red\">GBI6 - BIOINFORMÁTICA</h1></center>\n",
    "\n",
    "\n",
    "\n",
    "\n",
    "# FUNCIONES\n",
    "\n",
    "Al programar en ciencias en general y Bioinformática en particular, debe asegurarse que sus programas hagan exactamente y exclusivamente lo que deben hacer. Los errores no son simplemente características molestas y no deseadas; cualquier error en su código puede hacer que los resultados y las conclusiones de su investigación sean injustificados.\n",
    "\n",
    "Si se escribe programas complejos, se desea crear una estructura clara para el flujo del código. La mejor manera de lograr este objetivo es hacer que su código sea `modular`: **bloques de construcción simples, llamados funciones**. Las funciones son objetos que aceptan alguna `entrada` y devuelve alguna `salida`. Estos bloques para construir su programa complejo.\n",
    "\n",
    "<img src=\"https://cdn-images-1.medium.com/max/600/1*PjbvTSCPfBnrADeX4FIibg.png\" width=800 height=600 />\n",
    "\n",
    "Una estrategia para dividir un problema complejo en sus componentes básicos es escribir programas en los que cada **función sea muy corta y realice operaciones extremadamente básicas**. En este caso, es fácil ver lo que hace cada función, pero se puede perder de vista el programa general si hay muchas funciones. Alternativamente, se pueden escribir programas con solo un puñado de funciones, cada una de las cuales realiza una operación compleja. En este caso, comprender cada función requiere más esfuerzo, pero el flujo del programa general es mucho más simple.\n",
    "\n",
    "\n",
    "\n",
    "\n",
    "## Caracterísicas de una función:\n",
    "* Porciones de código, reutilizables.\n",
    "* Las funciones y su código no se ejecutan hasta que son llamadas o invocadas.\n",
    "* Estas son las principales: \n",
    "    * Tiene un nombre.\n",
    "    * Recibe unos parámetros obligatorios u opcionales.\n",
    "        * Puede no tener parámetros, tener parámetros obligatorios, parametros opcionales o ambos.\n",
    "    * Tiene documentación (opcional).\n",
    "    * Tiene un cuerpo (sentencias).\n",
    "        * Si el cuerpo de la función está vacío, hay que utilizar la sentencia `pass` (debido a la sintaxis de Python)\n",
    "    * Devuelve un valor (opcional).\n",
    "        * Si la función no devuelve ningún valor, por defecto siempre se devuelve `None`\n",
    "* Para definir una función se utiliza la keywod `def`.\n",
    "```python\n",
    "# Inicia la función\n",
    "def nombre_de_la_funcion(parametro1, parametro2=\"valor por defecto\"):\n",
    "    \"\"\"Docstring, Explicación\"\"\"\n",
    "    sentencia_1\n",
    "    sentencia_2\n",
    "    return valor\n",
    "# termina la función\n",
    "```\n",
    "\n",
    "<img src=\"https://www.learnbyexample.org/wp-content/uploads/python/Python-Function-Syntax.png\" width=600 height=450 />\n",
    "\n",
    "Algunos detalles adiconales de los componentes de una función. \n",
    "\n",
    "<img src=\"https://www.cs.cornell.edu/courses/cs1380/2018sp/textbook/images/function_definition.jpg\" width=800 height=800 />\n",
    "\n",
    "\n",
    "## Ejecutar una función\n",
    "\n",
    "* Una función se invoca llamándola mediante su nombre, pasando los parámetros entre paréntesis `()`\n",
    "\n",
    "```python\n",
    "# Ejecuta la función\n",
    "nombre_de_la_funcion(parametro1, parametro2=\"valor2\")\n",
    "``` \n",
    "* Según el [PEP8](https://www.python.org/dev/peps/pep-0008/), todas las funciones deberían dejar dos lineas en blanco respecto al código anterior.\n",
    "    * Pero no es un fallo de sintaxis\n",
    "* Se pueden definir funciones en cualquier lugar del código, incluso dentro de otras funciones"
   ]
  },
  {
   "cell_type": "code",
   "execution_count": null,
   "metadata": {
    "id": "bJgGuk00i4Pl"
   },
   "outputs": [],
   "source": [
    "def gato(raton1, raton2): \n",
    "  result = raton1 + raton2\n",
    "  return(result)\n"
   ]
  },
  {
   "cell_type": "code",
   "execution_count": null,
   "metadata": {
    "colab": {
     "base_uri": "https://localhost:8080/",
     "height": 35
    },
    "executionInfo": {
     "elapsed": 421,
     "status": "ok",
     "timestamp": 1671490019378,
     "user": {
      "displayName": "Moises Ruben Gualapuro Gualapuro",
      "userId": "00783441233645351804"
     },
     "user_tz": 300
    },
    "id": "0cJHO_e6jPIM",
    "outputId": "d66d4ab9-f6c5-477c-9692-d41340a2b573"
   },
   "outputs": [
    {
     "data": {
      "application/vnd.google.colaboratory.intrinsic+json": {
       "type": "string"
      },
      "text/plain": [
       "'miau otro miau'"
      ]
     },
     "execution_count": 5,
     "metadata": {},
     "output_type": "execute_result"
    }
   ],
   "source": [
    "gato(\"miau\", \" otro miau\")"
   ]
  },
  {
   "cell_type": "code",
   "execution_count": null,
   "metadata": {
    "colab": {
     "base_uri": "https://localhost:8080/",
     "height": 35
    },
    "executionInfo": {
     "elapsed": 12,
     "status": "ok",
     "timestamp": 1671490070909,
     "user": {
      "displayName": "Moises Ruben Gualapuro Gualapuro",
      "userId": "00783441233645351804"
     },
     "user_tz": 300
    },
    "id": "ZXkbBVjLkehX",
    "outputId": "36d9e381-e800-418c-8cce-09935d2ad6f6"
   },
   "outputs": [
    {
     "data": {
      "application/vnd.google.colaboratory.intrinsic+json": {
       "type": "string"
      },
      "text/plain": [
       "'miau otro miau'"
      ]
     },
     "execution_count": 6,
     "metadata": {},
     "output_type": "execute_result"
    }
   ],
   "source": [
    "cats = gato(\"miau\", \" otro miau\")\n",
    "cats"
   ]
  },
  {
   "cell_type": "code",
   "execution_count": null,
   "metadata": {
    "colab": {
     "base_uri": "https://localhost:8080/"
    },
    "executionInfo": {
     "elapsed": 569,
     "status": "ok",
     "timestamp": 1671490127304,
     "user": {
      "displayName": "Moises Ruben Gualapuro Gualapuro",
      "userId": "00783441233645351804"
     },
     "user_tz": 300
    },
    "id": "7RI1TWzMksSd",
    "outputId": "83d13a3e-880a-4dea-a1fb-4a9ee12afa5b"
   },
   "outputs": [
    {
     "data": {
      "text/plain": [
       "12"
      ]
     },
     "execution_count": 7,
     "metadata": {},
     "output_type": "execute_result"
    }
   ],
   "source": [
    "seq = \"ATCGATCGTAGC\"\n",
    "len_seq = len(seq)\n",
    "len_seq"
   ]
  },
  {
   "cell_type": "code",
   "execution_count": null,
   "metadata": {
    "id": "XeeS7XMc9CFO"
   },
   "outputs": [],
   "source": [
    "def potencia(x, y):\n",
    "    z = x**y\n",
    "    return(z)"
   ]
  },
  {
   "cell_type": "code",
   "execution_count": null,
   "metadata": {
    "colab": {
     "base_uri": "https://localhost:8080/"
    },
    "executionInfo": {
     "elapsed": 25,
     "status": "ok",
     "timestamp": 1671490440059,
     "user": {
      "displayName": "Moises Ruben Gualapuro Gualapuro",
      "userId": "00783441233645351804"
     },
     "user_tz": 300
    },
    "id": "gZrycDfa04hL",
    "outputId": "4625a80b-cc39-43df-c50e-36cdb7786e73"
   },
   "outputs": [
    {
     "data": {
      "text/plain": [
       "25"
      ]
     },
     "execution_count": 13,
     "metadata": {},
     "output_type": "execute_result"
    }
   ],
   "source": [
    "potencia(5, 2)"
   ]
  },
  {
   "cell_type": "code",
   "execution_count": null,
   "metadata": {
    "colab": {
     "base_uri": "https://localhost:8080/"
    },
    "executionInfo": {
     "elapsed": 3,
     "status": "ok",
     "timestamp": 1671490441890,
     "user": {
      "displayName": "Moises Ruben Gualapuro Gualapuro",
      "userId": "00783441233645351804"
     },
     "user_tz": 300
    },
    "id": "RDis_0lc9CFP",
    "outputId": "0536fb06-26e6-415e-d662-e4a00679cc06"
   },
   "outputs": [
    {
     "data": {
      "text/plain": [
       "1024"
      ]
     },
     "execution_count": 14,
     "metadata": {},
     "output_type": "execute_result"
    }
   ],
   "source": [
    "potencia(4,5)"
   ]
  },
  {
   "cell_type": "code",
   "execution_count": null,
   "metadata": {
    "colab": {
     "base_uri": "https://localhost:8080/"
    },
    "executionInfo": {
     "elapsed": 471,
     "status": "ok",
     "timestamp": 1671490491860,
     "user": {
      "displayName": "Moises Ruben Gualapuro Gualapuro",
      "userId": "00783441233645351804"
     },
     "user_tz": 300
    },
    "id": "5AbQumj29CFR",
    "outputId": "6e08fef4-4369-43c5-e093-862208b25897"
   },
   "outputs": [
    {
     "data": {
      "text/plain": [
       "512"
      ]
     },
     "execution_count": 15,
     "metadata": {},
     "output_type": "execute_result"
    }
   ],
   "source": [
    "potencia(2, potencia(3,2))"
   ]
  },
  {
   "cell_type": "code",
   "execution_count": null,
   "metadata": {
    "id": "yWSlch8N04hL"
   },
   "outputs": [],
   "source": [
    "x = \"ANCNBDJHD\"\n",
    "?x.count"
   ]
  },
  {
   "cell_type": "code",
   "execution_count": null,
   "metadata": {
    "id": "60T3xwMiAkr0"
   },
   "outputs": [],
   "source": [
    "# predefinir valores\n",
    "def potencia(x=2, y=3):\n",
    "  \"\"\"\n",
    "  Potencia: eleva a la base x al exponente y\n",
    "  x: valor numérico de base\n",
    "  y: valor numérico de exponente\n",
    "  \"\"\"\n",
    "  z = x**y\n",
    "  return(z)"
   ]
  },
  {
   "cell_type": "code",
   "execution_count": null,
   "metadata": {
    "id": "7SoH5LGxBDoa"
   },
   "outputs": [],
   "source": [
    "?potencia"
   ]
  },
  {
   "cell_type": "code",
   "execution_count": null,
   "metadata": {
    "id": "5rJseDJrpGKA"
   },
   "outputs": [],
   "source": [
    "def percentgc(seq=\"ATCG\"): \n",
    "  \"\"\"\"Escribir el docstring\"\"\"\n",
    "  pgc = round(100*(seq.count(\"C\")+ seq.count(\"G\"))/len(seq), 2)\n",
    "  return(pgc)"
   ]
  },
  {
   "cell_type": "code",
   "execution_count": null,
   "metadata": {
    "colab": {
     "base_uri": "https://localhost:8080/"
    },
    "executionInfo": {
     "elapsed": 8,
     "status": "ok",
     "timestamp": 1671491889081,
     "user": {
      "displayName": "Moises Ruben Gualapuro Gualapuro",
      "userId": "00783441233645351804"
     },
     "user_tz": 300
    },
    "id": "cacWrYh6pbxy",
    "outputId": "04aabe48-b7eb-439a-b83f-ceaa8a7697fa"
   },
   "outputs": [
    {
     "data": {
      "text/plain": [
       "50.0"
      ]
     },
     "execution_count": 37,
     "metadata": {},
     "output_type": "execute_result"
    }
   ],
   "source": [
    "percentgc()"
   ]
  },
  {
   "cell_type": "code",
   "execution_count": null,
   "metadata": {
    "colab": {
     "base_uri": "https://localhost:8080/"
    },
    "executionInfo": {
     "elapsed": 428,
     "status": "ok",
     "timestamp": 1671491470808,
     "user": {
      "displayName": "Moises Ruben Gualapuro Gualapuro",
      "userId": "00783441233645351804"
     },
     "user_tz": 300
    },
    "id": "Bz8pjVGcpgZS",
    "outputId": "8491d941-8a61-4e57-e469-f422a39555cf"
   },
   "outputs": [
    {
     "data": {
      "text/plain": [
       "52.94"
      ]
     },
     "execution_count": 32,
     "metadata": {},
     "output_type": "execute_result"
    }
   ],
   "source": [
    "percentgc(\"ATCGCTAGCTAGCTAGGAGAGAGGAGAGAGGATC\")"
   ]
  },
  {
   "cell_type": "code",
   "execution_count": null,
   "metadata": {
    "colab": {
     "base_uri": "https://localhost:8080/"
    },
    "executionInfo": {
     "elapsed": 1004,
     "status": "ok",
     "timestamp": 1671491088857,
     "user": {
      "displayName": "Moises Ruben Gualapuro Gualapuro",
      "userId": "00783441233645351804"
     },
     "user_tz": 300
    },
    "id": "eHr5sCDeDQln",
    "outputId": "a6611e93-eba1-4bd3-a870-e2fc403bec11"
   },
   "outputs": [
    {
     "data": {
      "text/plain": [
       "8"
      ]
     },
     "execution_count": 25,
     "metadata": {},
     "output_type": "execute_result"
    }
   ],
   "source": [
    "potencia()"
   ]
  },
  {
   "cell_type": "markdown",
   "metadata": {
    "id": "O-ZgSPQWvgbd"
   },
   "source": []
  },
  {
   "cell_type": "code",
   "execution_count": null,
   "metadata": {
    "colab": {
     "background_save": true
    },
    "id": "-aP0c1mfDmIl"
   },
   "outputs": [],
   "source": [
    "potencia(y=5, x=10)"
   ]
  },
  {
   "cell_type": "code",
   "execution_count": null,
   "metadata": {
    "id": "_p_hU8fVrvSx"
   },
   "outputs": [],
   "source": [
    "def operaciones(x=3, y=5): \n",
    "  z1 = x+y\n",
    "  z2 = x-y\n",
    "  z3 = x*y\n",
    "  z4 = x**y\n",
    "  return([z1, z2, z3, z4])"
   ]
  },
  {
   "cell_type": "code",
   "execution_count": null,
   "metadata": {
    "colab": {
     "base_uri": "https://localhost:8080/"
    },
    "executionInfo": {
     "elapsed": 307,
     "status": "ok",
     "timestamp": 1671492008944,
     "user": {
      "displayName": "Moises Ruben Gualapuro Gualapuro",
      "userId": "00783441233645351804"
     },
     "user_tz": 300
    },
    "id": "a2KKWRwcr9yB",
    "outputId": "8a858ef1-3ec7-40b3-eaec-260c606530c6"
   },
   "outputs": [
    {
     "data": {
      "text/plain": [
       "[8, -2, 15, 243]"
      ]
     },
     "execution_count": 39,
     "metadata": {},
     "output_type": "execute_result"
    }
   ],
   "source": [
    "operaciones()"
   ]
  },
  {
   "cell_type": "code",
   "execution_count": null,
   "metadata": {
    "id": "eZ0bO6YNWFtj"
   },
   "outputs": [],
   "source": [
    "# Sin argumento alguno\n",
    "\n",
    "def funcionvacia():\n",
    "    pass\n",
    "\n",
    "funcionvacia()"
   ]
  },
  {
   "cell_type": "code",
   "execution_count": null,
   "metadata": {
    "id": "fqnQRhX0WFtm"
   },
   "outputs": [],
   "source": [
    "def test(parametro1, parametro2=\"valor por defecto \"):\n",
    "    \"\"\"Explicacion de la funcion.\"\"\"\n",
    "    a = parametro1 * parametro2\n",
    "    return a"
   ]
  },
  {
   "cell_type": "code",
   "execution_count": null,
   "metadata": {
    "id": "Bqb8V5XrWFtn"
   },
   "outputs": [],
   "source": [
    "test(2, int(True))"
   ]
  },
  {
   "cell_type": "code",
   "execution_count": null,
   "metadata": {
    "id": "94tjAp5kWFto"
   },
   "outputs": [],
   "source": [
    "lista1 = [\"DNA\", \"Proteina\", \"Hola\", \"Bioinformatica\"]\n",
    "lista2 = [\"Guanina\", \"Proteina\", \"IKiam\", \"Bioinformatica\"]\n",
    "lista3 = [\"MAria\", \"Bryan\", \"Damaris\", \"Jefferson\"]\n",
    "lista4 = [\"Tena\", \"Quito\", \"Guayaquil\", \"Manta\"]\n",
    "lista5 = [\"DNA\", \"Proteina\", \"Hola\", \"Bioinformatica\"]\n",
    "lista6 = [\"Guanina\", \"Proteina\", \"IKiam\", \"Bioinformatica\"]\n",
    "lista7 = [\"MAria\", \"Bryan\", \"Damaris\", \"Jefferson\"]\n",
    "lista8 = [\"Tena\", \"Quito\", \"Guayaquil\", \"Manta\"]\n",
    "print(\"Lista1\")\n",
    "for i in range(len(lista1)): \n",
    "    a = 2* len(lista1[i])\n",
    "    print(a)\n",
    "print(\"Lista2\")\n",
    "for i in range(len(lista2)): \n",
    "    a = 2* len(lista2[i])\n",
    "    print(a)\n",
    "print(\"Lista3\")\n",
    "for i in range(len(lista3)): \n",
    "    a = 2* len(lista3[i])\n",
    "    print(a)\n",
    "print(\"Lista4\")\n",
    "for i in range(len(lista4)): \n",
    "    a = 2* len(lista4[i])\n",
    "    print(a)\n",
    "print(\"Lista5\")\n",
    "for i in range(len(lista5)): \n",
    "    a = 2* len(lista5[i])\n",
    "    print(a)\n",
    "print(\"Lista6\")\n",
    "for i in range(len(lista6)): \n",
    "    a = 2* len(lista6[i])\n",
    "    print(a)\n",
    "print(\"Lista7\")\n",
    "for i in range(len(lista7)): \n",
    "    a = 2* len(lista7[i])\n",
    "    print(a)\n",
    "print(\"Lista8\")\n",
    "for i in range(len(lista8)): \n",
    "    a = 2* len(lista8[i])\n",
    "    print(a)"
   ]
  },
  {
   "cell_type": "code",
   "execution_count": null,
   "metadata": {
    "id": "UDUzHCVoWFtp"
   },
   "outputs": [],
   "source": [
    "def doble_caracteres(lista):\n",
    "    \"\"\"\n",
    "    La función doble_caracteres recibe un argumento que es una lista\n",
    "    y retorna el doble de la longitud de cada elemento de la lista. \n",
    "    :param lista: lista de elementos\n",
    "    \"\"\"\n",
    "    b = []\n",
    "    for i in range(len(lista)):\n",
    "        a = 2* len(lista[i])\n",
    "        b.append(a)\n",
    "    return b"
   ]
  },
  {
   "cell_type": "code",
   "execution_count": null,
   "metadata": {
    "id": "HLIE_I4YWFtp"
   },
   "outputs": [],
   "source": [
    "help(doble_caracteres)"
   ]
  },
  {
   "cell_type": "code",
   "execution_count": null,
   "metadata": {
    "id": "DoAbp7pjWFtq"
   },
   "outputs": [],
   "source": [
    "l1 = doble_caracteres(lista1)\n",
    "l2 = doble_caracteres(lista2)\n",
    "l3 = doble_caracteres(lista3)\n",
    "l4 = doble_caracteres(lista4)\n",
    "l5 = doble_caracteres(lista5)\n",
    "l6 = doble_caracteres(lista6)\n",
    "l7 = doble_caracteres(lista7)\n",
    "l8 = doble_caracteres(lista8)\n",
    "listas_res = [l1, l2, l3, l4, l5, l6, l7, l8]\n",
    "listas_res"
   ]
  },
  {
   "cell_type": "code",
   "execution_count": null,
   "metadata": {
    "colab": {
     "background_save": true
    },
    "id": "QEQmzg8TWFtr"
   },
   "outputs": [],
   "source": [
    "listas = [lista1, lista2, lista3, lista4, lista5, lista6, lista7, lista8]\n",
    "dobles = [doble_caracteres(x) for x in listas] # List Comprehension"
   ]
  },
  {
   "cell_type": "code",
   "execution_count": null,
   "metadata": {
    "id": "lswh6fR3WFtr"
   },
   "outputs": [],
   "source": [
    "dobles"
   ]
  },
  {
   "cell_type": "code",
   "execution_count": null,
   "metadata": {
    "id": "VcNquuDQWFts"
   },
   "outputs": [],
   "source": [
    "help(doble_caracteres)"
   ]
  },
  {
   "cell_type": "code",
   "execution_count": null,
   "metadata": {
    "id": "PXeiNErHWFts"
   },
   "outputs": [],
   "source": [
    "help(enumerate)"
   ]
  },
  {
   "cell_type": "code",
   "execution_count": null,
   "metadata": {
    "id": "rSDwW_GmWFtt"
   },
   "outputs": [],
   "source": [
    "def multiplo_caracteres(lista, multiplo = 2):\n",
    "    \"\"\"\n",
    "    La función doble_caracteres recibe un argumento que es una lista\n",
    "    y retorna el el doble de la longitud de cada elemento de la lista. \n",
    "    :param lista: lista de elementos\n",
    "    \"\"\"\n",
    "    b = []\n",
    "    for i in range(len(lista)):\n",
    "        a = multiplo* len(lista[i])\n",
    "        b.append(a)\n",
    "    return b"
   ]
  },
  {
   "cell_type": "code",
   "execution_count": null,
   "metadata": {
    "id": "o9ST3DppWFtt"
   },
   "outputs": [],
   "source": [
    "%whos"
   ]
  },
  {
   "cell_type": "code",
   "execution_count": null,
   "metadata": {
    "id": "2JRCrfldWFtt"
   },
   "outputs": [],
   "source": [
    "listas = [lista1, lista2, lista3, lista4, lista5, lista6, lista7, lista8]\n",
    "multipls = range(2, 100)\n",
    "\n",
    "# Iteracione individuales \n",
    "simples = [multiplo_caracteres(x, 1) for x in listas]\n",
    "dobles = [multiplo_caracteres(x, 2) for x in listas]\n",
    "triples = [multiplo_caracteres(x, 3) for x in listas]\n",
    "cuadruples = [multiplo_caracteres(x, 4) for x in listas]\n",
    "print(simples)\n",
    "print(dobles)\n",
    "print(triples)\n",
    "print(cuadruples)\n",
    "\n",
    "# iteraciones con bucle\n",
    "#for i in multipls: \n",
    "#   multiplos_car = [multiplo_caracteres(x, i) for x in listas]\n",
    "    \n"
   ]
  },
  {
   "cell_type": "code",
   "execution_count": null,
   "metadata": {
    "id": "m1hhMhSxWFtu"
   },
   "outputs": [],
   "source": [
    "multiplox = [multiplo_caracteres(x) for x in listas]\n",
    "multiplox\n",
    "help(multiplo_caracteres)"
   ]
  },
  {
   "cell_type": "code",
   "execution_count": null,
   "metadata": {
    "id": "fYKcGdg9WFtu"
   },
   "outputs": [],
   "source": [
    "multiy = [multiplo_caracteres(multiplo = 17, lista = x) for x in listas]\n",
    "multiy"
   ]
  },
  {
   "cell_type": "code",
   "execution_count": null,
   "metadata": {
    "id": "H3su3VQr04hQ"
   },
   "outputs": [],
   "source": [
    "nombre = \"Mateo\"\n",
    "def nombres(apellido):\n",
    "    persona = nombre + apellido\n",
    "    return persona\n"
   ]
  },
  {
   "cell_type": "code",
   "execution_count": null,
   "metadata": {
    "id": "jTs-BPwT04hQ"
   },
   "outputs": [],
   "source": []
  },
  {
   "cell_type": "code",
   "execution_count": null,
   "metadata": {
    "id": "J3LMqvJj04hQ"
   },
   "outputs": [],
   "source": [
    "n1 = nombres(\" Fernandez\")\n",
    "n1"
   ]
  },
  {
   "cell_type": "code",
   "execution_count": null,
   "metadata": {
    "id": "RjppDRM6WFtv"
   },
   "outputs": [],
   "source": [
    "# Con argumentos pero no retorna elemento alguno\n",
    "\n",
    "def test(parametro1, parametro2=\"valor por defecto\"):\n",
    "    \"\"\"\n",
    "    La funión test recibe dos argumentos y retorna la concatenación de ellas. \n",
    "    :param parametro1: contenido 1\n",
    "    :param parametro2: contenido 2\n",
    "    \"\"\"\n",
    "    texto3 = str(parametro1) + str(parametro2)\n",
    "    return texto3\n",
    "\n"
   ]
  },
  {
   "cell_type": "code",
   "execution_count": null,
   "metadata": {
    "id": "SsGPA9DF04hQ"
   },
   "outputs": [],
   "source": []
  },
  {
   "cell_type": "code",
   "execution_count": null,
   "metadata": {
    "id": "_N1ONqx0WFtv"
   },
   "outputs": [],
   "source": [
    "help(test)"
   ]
  },
  {
   "cell_type": "code",
   "execution_count": null,
   "metadata": {
    "id": "JaFfDBXRWFtw"
   },
   "outputs": [],
   "source": [
    "test(1)"
   ]
  },
  {
   "cell_type": "code",
   "execution_count": null,
   "metadata": {
    "id": "wvVmvQAnWFtw"
   },
   "outputs": [],
   "source": [
    "test(\"Esto es una \", \"prueba\")"
   ]
  },
  {
   "cell_type": "code",
   "execution_count": null,
   "metadata": {
    "id": "fB4ejDsUWFtw"
   },
   "outputs": [],
   "source": [
    "# Se define una funcion incompleta, se queda a la espera que incluya instrucciones adicionales\n",
    "def funcion():"
   ]
  },
  {
   "cell_type": "code",
   "execution_count": null,
   "metadata": {
    "id": "lL7ZLUPdWFtw"
   },
   "outputs": [],
   "source": [
    "# Ejemplo con un argumento: número par\n",
    "\n",
    "def es_par(i):\n",
    "    \"\"\"\n",
    "    La funcion es_par devuelve True si el número i es par, False si es impar.\n",
    "    \n",
    "    :param i: entero para calcular si es par o no.\n",
    "    \"\"\"\n",
    "    if i % 2 == 0:\n",
    "        return True\n",
    "    else:\n",
    "        return False\n",
    "    \n",
    "print(es_par(3))\n",
    "print(es_par(4))"
   ]
  },
  {
   "cell_type": "code",
   "execution_count": null,
   "metadata": {
    "id": "s82Fbz37WFtx"
   },
   "outputs": [],
   "source": [
    "# Ejemplo: número par\n",
    "\n",
    "def es_par(i):\n",
    "    \"\"\"Devuelve True si el número i es par, False si es impar.\n",
    "    \n",
    "    :param i: entero para calcular si es par o no.\n",
    "    \"\"\"\n",
    "    return i % 2 == 0\n",
    "\n",
    "print(es_par(3))\n",
    "print(es_par(4))"
   ]
  },
  {
   "cell_type": "code",
   "execution_count": null,
   "metadata": {
    "id": "-MsJ3rJLWFtx"
   },
   "outputs": [],
   "source": [
    "# Todo en Python es un objeto, luego:\n",
    "\n",
    "help(es_par)"
   ]
  },
  {
   "cell_type": "code",
   "execution_count": null,
   "metadata": {
    "id": "HlymuDJZWFtx"
   },
   "outputs": [],
   "source": [
    "print(test.__doc__)"
   ]
  },
  {
   "cell_type": "markdown",
   "metadata": {
    "id": "plhrzog1WFtx"
   },
   "source": [
    "## Argumentos y scope\n",
    "\n",
    "* Los argumentos se definen en la cabecera de la función de la siguiente manera:\n",
    "```python\n",
    "def name(arg1, arg2, ..., argN, kwarg1=val1, kwarg2=val2, ..., kwargN, valN):\n",
    "```\n",
    "    * `arg1`, etc. son argumentos obligatorios\n",
    "        * Siempre hay que pasarselos a la función cuando sea invocada.\n",
    "        * No pueden tomar valores por defecto\n",
    "    * `kwarg1` son argumentos opcionales o _keyword arguments_.\n",
    "        * No hay por que pasarlos.\n",
    "        * Tienen que tener un valor por defecto, que se evalúa *una única vez*."
   ]
  },
  {
   "cell_type": "code",
   "execution_count": null,
   "metadata": {
    "id": "C5zz4IfnWFty"
   },
   "outputs": [],
   "source": [
    "# Sin definir un argumento obligatorio\n",
    "def name(arg):\n",
    "    pass\n",
    "\n",
    "name(12213)"
   ]
  },
  {
   "cell_type": "code",
   "execution_count": null,
   "metadata": {
    "id": "r3nj1dAqWFty"
   },
   "outputs": [],
   "source": [
    "# Sin definir un argumento opcional\n",
    "def name(kwarg=None):\n",
    "    pass\n",
    "name()"
   ]
  },
  {
   "cell_type": "code",
   "execution_count": null,
   "metadata": {
    "id": "Rfky5M-aWFty"
   },
   "outputs": [],
   "source": [
    "def name(arg, kwarg=None):\n",
    "    pass\n",
    "\n",
    "#name(None)\n",
    "name(None, kwarg=None)\n",
    "name(kwarg=None)"
   ]
  },
  {
   "cell_type": "markdown",
   "metadata": {
    "id": "Sc1X423oWFty"
   },
   "source": [
    "* Los argumentos que se definen en la cabecera de la función se llaman _argumentos formales_\n",
    "* Los argumentos con los que se llama la función son _argumentos reales_\n",
    "* Cuando se llama a una función:\n",
    "    * Los parámetros formales se asignan a los parámetros reales.\n",
    "    * Se crea un nuevo \"scope\" para la función: las nuevas variables solo existen dentro de la función.\n",
    "    * Aún así, una función puede acceder a una variable fuera de la función.\n",
    "    * Pero no puede escribir en ella a menos que sea declarada como global"
   ]
  },
  {
   "cell_type": "code",
   "execution_count": null,
   "metadata": {
    "id": "hmdwn4qnWFtz"
   },
   "outputs": [],
   "source": [
    "# i solo existe dentro de la función es par, y solo durante su invocación\n",
    "\n",
    "def es_par(i):\n",
    "    return i % 2 == 0\n",
    "\n",
    "gdf = 24\n",
    "es_par(gdf)"
   ]
  },
  {
   "cell_type": "code",
   "execution_count": null,
   "metadata": {
    "id": "0wOFXBQwWFtz"
   },
   "outputs": [],
   "source": [
    "# Una función puede acceder a una variable fuera de su scope\n",
    "\n",
    "x = 6 # argumento global \n",
    "def pato(cb):\n",
    "    xx = 2*cb # argumento local \n",
    "    print(x)\n",
    "\n",
    "pato(3)"
   ]
  },
  {
   "cell_type": "code",
   "execution_count": null,
   "metadata": {
    "id": "Zhyf_ypGWFtz"
   },
   "outputs": [],
   "source": [
    "# Una función no puede escribir en una variable fuera de su scope\n",
    "\n",
    "x = 5\n",
    "\n",
    "def foo(x):\n",
    "    x += 1\n",
    "    return x\n",
    "\n",
    "print(\"Valor procesado de x en foo: \",  foo(x))\n",
    "print(\"Valor del x real: \", x)"
   ]
  },
  {
   "cell_type": "code",
   "execution_count": null,
   "metadata": {
    "id": "lJrLeGtiWFt0"
   },
   "outputs": [],
   "source": [
    "# Una función puede escribir en una variable global fuera de su scope\n",
    "x = 5\n",
    "\n",
    "def foo():\n",
    "    global x\n",
    "    x += 1\n",
    "    return x\n",
    "print(\"Valor procesado de x en foo: \",  foo())\n",
    "print(\"Valor del x real: \", x)"
   ]
  },
  {
   "cell_type": "code",
   "execution_count": null,
   "metadata": {
    "id": "MLWlZOnHWFt0"
   },
   "outputs": [],
   "source": [
    "y = 3 # siempre necesito que sea 3, porque es la constante densidad\n",
    "\n",
    "def foo(constante):\n",
    "    constante *= 5\n",
    "    return constante\n",
    "print(\"Valor procesado de y en foo: \",  foo(y))\n",
    "print(\"Valor del y real: \", y)\n"
   ]
  },
  {
   "cell_type": "markdown",
   "metadata": {
    "id": "79v-3SlrWFt0"
   },
   "source": [
    "* Hay que tener en cuenta la asignación de variables en Python.\n",
    "* Los parámetros formales *se asignan* a los parámetros reales.\n",
    "    * Es decir, que se pasan las referencias, *NO* los valores\n",
    "    * No se realiza una copia.\n",
    "* Esto no es un problema con objetos inmutables"
   ]
  },
  {
   "cell_type": "code",
   "execution_count": null,
   "metadata": {
    "id": "2ogN0FN0WFt0"
   },
   "outputs": [],
   "source": [
    "# Los paramétros de la función se asignan igual que si fuesen variables,\n",
    "# estando accesible dentro del scope de la función.\n",
    "\n",
    "def cuadrado(i):\n",
    "    i = i * i\n",
    "    return i \n",
    "\n",
    "i = 5\n",
    "print(\"i: %1d, \\t |\\t cuadrado de i: %2d\"%(i, cuadrado(i)))\n"
   ]
  },
  {
   "cell_type": "code",
   "execution_count": null,
   "metadata": {
    "id": "csg_5QIAWFt1"
   },
   "outputs": [],
   "source": [
    "k2 = 4\n",
    "print(\"i: %1d, \\t |\\t cuadrado de i: %2d\"%(k2, cuadrado(k2)))\n"
   ]
  },
  {
   "cell_type": "code",
   "execution_count": null,
   "metadata": {
    "id": "0ME7Amv-WFt1"
   },
   "outputs": [],
   "source": []
  },
  {
   "cell_type": "markdown",
   "metadata": {
    "id": "k8lm8ewJWFt1"
   },
   "source": [
    "* Pero sí con objetos mutables!!"
   ]
  },
  {
   "cell_type": "code",
   "execution_count": null,
   "metadata": {
    "id": "qAw3UJYIWFt1"
   },
   "outputs": [],
   "source": [
    "# Los paramétros de la función se asignan igual que si fuesen variables,\n",
    "# por lo que hay que tener cuidado con los objetos mutables\n",
    "\n",
    "l = [10, 2, 23, -1, 99, 12]\n",
    "\n",
    "def ordena_e_imprime(l):\n",
    "    l.sort()\n",
    "\n",
    "\n",
    "print(\"l antes:\\t\", l)\n",
    "ordena_e_imprime(l)\n",
    "print(\"l despues:\\t\", l)  # l se ha modificado!!"
   ]
  },
  {
   "cell_type": "code",
   "execution_count": null,
   "metadata": {
    "id": "E4GrBYXlWFt2"
   },
   "outputs": [],
   "source": [
    "# Solución: usar una copia si modificamos objetos mutables\n",
    "\n",
    "def ordena_e_imprime(l):\n",
    "    global temp\n",
    "    temp = l[:]\n",
    "    temp.sort()\n",
    "\n",
    "l = [10, 2, 23, -1, 99, 12]\n",
    "\n",
    "print(\"l antes:\\t\", l)\n",
    "ordena_e_imprime(l)\n",
    "print(\"l despues:\\t\", l)  # l se ha modificado!!\n",
    "print(\"temp despues:\\t\", temp)  # l se ha modificado!!"
   ]
  },
  {
   "cell_type": "markdown",
   "metadata": {
    "id": "EzauRJsQWFt2"
   },
   "source": [
    "* Los _keyword arguments_ evaluan sus valores por defecto en el momento de su definición.\n",
    "* Esto es peligroso con objetos mutables."
   ]
  },
  {
   "cell_type": "code",
   "execution_count": null,
   "metadata": {
    "id": "14VCCIpXWFt2"
   },
   "outputs": [],
   "source": [
    "# El valor por defecto se evalua al momento de la definición, con lo que\n",
    "# a l se le asigna ya un objeto, lista vacía.\n",
    "\n",
    "def add_to_list(l=[]):\n",
    "    \"\"\"\n",
    "    Añade los valores \"a\", \"b\" y \"c\" a la lista l.\n",
    "    Si no se pasa ninguna lista, devuelve una con esos valores\n",
    "    \"\"\"\n",
    "    l.extend([\"a\", \"b\", \"c\"])\n",
    "    return l\n",
    "\n",
    "print(add_to_list())\n",
    "print(add_to_list())\n",
    "print(add_to_list())\n",
    "l"
   ]
  },
  {
   "cell_type": "code",
   "execution_count": null,
   "metadata": {
    "id": "V893EHivWFt2"
   },
   "outputs": [],
   "source": [
    "# Solución, usar None en lugar de una lista vacía\n",
    "\n",
    "def add_to_list(l=None):\n",
    "    \"\"\"\n",
    "    Añade los valores \"a\", \"b\" y \"c\" a la lista l.\n",
    "    Si no se pasa ninguna lista, devuelve una con esos valores\n",
    "    \"\"\"\n",
    "    if l is None:\n",
    "        l = []\n",
    "    l.extend([\"a\", \"b\", \"c\"])\n",
    "    return l\n",
    "\n",
    "print(add_to_list())\n",
    "print(add_to_list())\n",
    "print(add_to_list())"
   ]
  },
  {
   "cell_type": "markdown",
   "metadata": {
    "id": "dqfn3SZ5WFt3"
   },
   "source": [
    "## print vs return\n",
    "\n",
    "* `print()` y `return` son totalmente diferentes!!\n",
    "* `print()`\n",
    "    * escribe por pantalla los argumentos que se le pasen\n",
    "    * se puede llamar cuantas veces se quiera\n",
    "* `return`\n",
    "    * solo se puede utilizar dentro de una función\n",
    "    * solo se va a ejecutar una única vez\n",
    "* En el interprete, una llamada a una función con print y return puede resultar similar, si no se asigna el resultado a una variable, pero no es asi!\n",
    "    * El interprete (y Jupyter) evaluan una expresión y muestran su resultado si este es diferente a `None`.\n",
    "    * ```REPL: Read, Evaluate, Print, Loop.```"
   ]
  },
  {
   "cell_type": "code",
   "execution_count": null,
   "metadata": {
    "id": "DAwzc7DtNoqm"
   },
   "outputs": [],
   "source": [
    "def potencia(x, y): \n",
    "  z = x**y\n",
    "  return"
   ]
  },
  {
   "cell_type": "code",
   "execution_count": null,
   "metadata": {
    "id": "6bWIQOi9NwJe"
   },
   "outputs": [],
   "source": [
    "potencia(4,2)"
   ]
  },
  {
   "cell_type": "code",
   "execution_count": null,
   "metadata": {
    "id": "Kz_Y6nWINzHb"
   },
   "outputs": [],
   "source": [
    "def potencia(x, y): \n",
    "  z = x**y\n",
    "  print(z)\n",
    "  return"
   ]
  },
  {
   "cell_type": "code",
   "execution_count": null,
   "metadata": {
    "id": "tWzvb54PN3Yl"
   },
   "outputs": [],
   "source": [
    "potencia(2,3)"
   ]
  },
  {
   "cell_type": "code",
   "execution_count": null,
   "metadata": {
    "id": "Vb3_CMmON7TR"
   },
   "outputs": [],
   "source": [
    "y2 = potencia(2,3)\n",
    "y2"
   ]
  },
  {
   "cell_type": "code",
   "execution_count": null,
   "metadata": {
    "id": "M62QLhgwOIMv"
   },
   "outputs": [],
   "source": [
    "def potencia(x, y): \n",
    "  z = x**y\n",
    "  t = y**x\n",
    "  return [z, t]"
   ]
  },
  {
   "cell_type": "code",
   "execution_count": null,
   "metadata": {
    "id": "xSlAdNnZOKlJ"
   },
   "outputs": [],
   "source": [
    "y3 = potencia(2,3)\n",
    "print(type(y3))\n",
    "y3\n"
   ]
  },
  {
   "cell_type": "code",
   "execution_count": null,
   "metadata": {
    "id": "6UhuwMnhWFt3"
   },
   "outputs": [],
   "source": [
    "def funcion():\n",
    "    print(\"hola\")\n",
    "    return \"HOLA\"\n",
    "\n",
    "result1 = funcion()\n",
    "print(\"_____\")\n",
    "result1"
   ]
  },
  {
   "cell_type": "code",
   "execution_count": null,
   "metadata": {
    "id": "oa1FiuISNue0"
   },
   "outputs": [],
   "source": []
  },
  {
   "cell_type": "code",
   "execution_count": null,
   "metadata": {
    "id": "_jIaLyq6WFt3"
   },
   "outputs": [],
   "source": []
  },
  {
   "cell_type": "code",
   "execution_count": null,
   "metadata": {
    "id": "0ydGbW-NWFt3"
   },
   "outputs": [],
   "source": [
    "resultado = funcion()\n",
    "print(resultado)"
   ]
  },
  {
   "cell_type": "code",
   "execution_count": null,
   "metadata": {
    "id": "lHdKd_YcWFt8"
   },
   "outputs": [],
   "source": [
    "def funcion():\n",
    "    print(\"1\")\n",
    "    return 1\n",
    "    \n",
    "funcion()"
   ]
  },
  {
   "cell_type": "code",
   "execution_count": null,
   "metadata": {
    "id": "RlXrQd6bWFt8"
   },
   "outputs": [],
   "source": [
    "resultado = funcion()\n",
    "print(resultado)"
   ]
  },
  {
   "cell_type": "markdown",
   "metadata": {
    "id": "FCW6ZUv2WFt9"
   },
   "source": [
    "## Ejemplo: DNA GCcounter"
   ]
  },
  {
   "cell_type": "code",
   "execution_count": 4,
   "metadata": {
    "executionInfo": {
     "elapsed": 203,
     "status": "ok",
     "timestamp": 1671666317648,
     "user": {
      "displayName": "Moises Ruben Gualapuro Gualapuro",
      "userId": "00783441233645351804"
     },
     "user_tz": 300
    },
    "id": "NqKq3Jd7WFt9"
   },
   "outputs": [],
   "source": [
    "# here's our first function\n",
    "def GCcontent(seq=\"AtcG\", direccion = \"Forward\", cifra_sign = 3):\n",
    "    '''\n",
    "    GCcontent acepta como argumento una secuencia de texto de nombre dna;\n",
    "    Asume que la secuencia DNA está como texto (string), \n",
    "    Calcula el porcentaje de núcleótidos G y C utiizando la expresión \n",
    "    perc_gc = (G + C) / (A + T + G + C)\n",
    "    :param dna: secuencia de interés para calcular contenido de CG\n",
    "    :param dirección: ingresar Forward o Reverse\n",
    "    \n",
    "    '''\n",
    "    \n",
    "    if direccion == \"Forward\": \n",
    "        \n",
    "        # Transforma a mayúsculas a todos los caracteres\n",
    "        dna = seq.upper()\n",
    "        # Cuenta las ocurrencia de cada nucleotido\n",
    "        numG = dna.count(\"G\")\n",
    "        numC = dna.count(\"C\")\n",
    "        length = len(dna)\n",
    "        # calcula el porcentaje de los núcleótidos G y C (G + C) / (A + T + G + C)\n",
    "        perc_gc = round(100*(numG + numC) / length, cifra_sign)\n",
    "        return [dna, numG, numC, length, perc_gc]\n",
    "    else: \n",
    "        mensaje = print(\"Encuentre la reversa y calcule GC\")\n",
    "        return mensaje\n",
    "    "
   ]
  },
  {
   "cell_type": "code",
   "execution_count": 5,
   "metadata": {
    "colab": {
     "base_uri": "https://localhost:8080/"
    },
    "executionInfo": {
     "elapsed": 306,
     "status": "ok",
     "timestamp": 1671666321366,
     "user": {
      "displayName": "Moises Ruben Gualapuro Gualapuro",
      "userId": "00783441233645351804"
     },
     "user_tz": 300
    },
    "id": "KC4X8X1zWFt9",
    "outputId": "61e629f0-f872-4235-c479-3368d04bf6be"
   },
   "outputs": [
    {
     "name": "stdout",
     "output_type": "stream",
     "text": [
      "\n",
      "    GCcontent acepta como argumento una secuencia de texto de nombre dna;\n",
      "    Asume que la secuencia DNA está como texto (string), \n",
      "    Calcula el porcentaje de núcleótidos G y C utiizando la expresión \n",
      "    perc_gc = (G + C) / (A + T + G + C)\n",
      "    :param dna: secuencia de interés para calcular contenido de CG\n",
      "    :param dirección: ingresar Forward o Reverse\n",
      "    \n",
      "    \n"
     ]
    }
   ],
   "source": [
    "print(GCcontent.__doc__)"
   ]
  },
  {
   "cell_type": "code",
   "execution_count": 6,
   "metadata": {
    "colab": {
     "base_uri": "https://localhost:8080/"
    },
    "executionInfo": {
     "elapsed": 427,
     "status": "ok",
     "timestamp": 1671666323210,
     "user": {
      "displayName": "Moises Ruben Gualapuro Gualapuro",
      "userId": "00783441233645351804"
     },
     "user_tz": 300
    },
    "id": "d1MTRiOcWFt9",
    "outputId": "7426921b-27e4-4d74-d60c-52054cbd8062"
   },
   "outputs": [
    {
     "data": {
      "text/plain": [
       "['ATCG', 1, 1, 4, 50.0]"
      ]
     },
     "execution_count": 6,
     "metadata": {},
     "output_type": "execute_result"
    }
   ],
   "source": [
    "GCcontent()"
   ]
  },
  {
   "cell_type": "code",
   "execution_count": 8,
   "metadata": {
    "colab": {
     "base_uri": "https://localhost:8080/"
    },
    "executionInfo": {
     "elapsed": 7,
     "status": "ok",
     "timestamp": 1671666387595,
     "user": {
      "displayName": "Moises Ruben Gualapuro Gualapuro",
      "userId": "00783441233645351804"
     },
     "user_tz": 300
    },
    "id": "LDRR8GOIWFt-",
    "outputId": "1b36ba87-cbb9-4145-fba4-20eeb357eefd"
   },
   "outputs": [
    {
     "name": "stdout",
     "output_type": "stream",
     "text": [
      "Encuentre la reversa y calcule GC\n"
     ]
    }
   ],
   "source": [
    "GCcontent(\"ATCGATCGTAGCTAGCTAGATCTCTCTCT\", \"Backward\", 5)"
   ]
  },
  {
   "cell_type": "code",
   "execution_count": 12,
   "metadata": {
    "colab": {
     "base_uri": "https://localhost:8080/"
    },
    "executionInfo": {
     "elapsed": 694,
     "status": "ok",
     "timestamp": 1671666480252,
     "user": {
      "displayName": "Moises Ruben Gualapuro Gualapuro",
      "userId": "00783441233645351804"
     },
     "user_tz": 300
    },
    "id": "G3nSzmUtWFt-",
    "outputId": "369db1e7-1d9f-4874-9257-fa6bf78e5855"
   },
   "outputs": [
    {
     "data": {
      "text/plain": [
       "['ATGCGCGGCTCATGCATGC', 6, 6, 19, 63.2]"
      ]
     },
     "execution_count": 12,
     "metadata": {},
     "output_type": "execute_result"
    }
   ],
   "source": [
    "GCcontent(cifra_sign = 1, direccion= \"Forward\", seq= \"ATGCGCGGCTCATGCATGC\")"
   ]
  },
  {
   "cell_type": "code",
   "execution_count": null,
   "metadata": {
    "id": "H_y4v9lFSElH"
   },
   "outputs": [],
   "source": [
    "def GCcontent(direccion = \"Forward\", cifra_sign = 3):\n",
    "    seq = input(\"Secuencia de ADN:\")\n",
    "    if \"ATCG\" is not in seq: \n",
    "      print(\"solo se aceptan secuencia de nucleótidos\")\n",
    "      break\n",
    "    \n",
    "    if direccion == \"Forward\": \n",
    "        \n",
    "        # Transforma a mayúsculas a todos los caracteres\n",
    "        dna = seq.upper()\n",
    "        # Cuenta las ocurrencia de cada nucleotido\n",
    "        numG = dna.count(\"G\")\n",
    "        numC = dna.count(\"C\")\n",
    "        numA = dna.count(\"A\")\n",
    "        numT = dna.count(\"T\")\n",
    "        length = len(dna)\n",
    "        # calcula el porcentaje de los núcleótidos G y C (G + C) / (A + T + G + C)\n",
    "        perc_gc = round(100*(numG + numC) / length, cifra_sign)\n",
    "        return [dna, numG, numC, length, perc_gc]\n",
    "    else: \n",
    "        mensaje = print(\"Encuentre la reversa y calcule GC\")\n",
    "        return mensaje"
   ]
  },
  {
   "cell_type": "code",
   "execution_count": null,
   "metadata": {
    "id": "T82kZWuZST_v"
   },
   "outputs": [],
   "source": [
    "GCcontent(\"Forward\", 1)"
   ]
  },
  {
   "cell_type": "code",
   "execution_count": null,
   "metadata": {
    "id": "0KcTZfT8WFt-"
   },
   "outputs": [],
   "source": [
    "def squared(start= 1, end=3, step = 1):\n",
    "    # lista vacía para agregar resultados del bucle\n",
    "    results = []\n",
    "    for i in range(start, end + 1, step):\n",
    "        r = i ** 2\n",
    "        # agregar valor resultado a la lista result = []\n",
    "        results.append(r)\n",
    "    return results"
   ]
  },
  {
   "cell_type": "code",
   "execution_count": null,
   "metadata": {
    "id": "1Bx-isJ6WFt-"
   },
   "outputs": [],
   "source": [
    "squared()"
   ]
  },
  {
   "cell_type": "code",
   "execution_count": null,
   "metadata": {
    "id": "Mqip-UjjWFt-"
   },
   "outputs": [],
   "source": [
    "# Se definen nuevos valores para start y end\n",
    "squared(start = 3, end = 10)"
   ]
  },
  {
   "cell_type": "code",
   "execution_count": null,
   "metadata": {
    "id": "POVlgxt-WFt_"
   },
   "outputs": [],
   "source": [
    "# Se define solamente el valor start\n",
    "squared(5, -10, -1)"
   ]
  },
  {
   "cell_type": "code",
   "execution_count": null,
   "metadata": {
    "id": "Y9bvaGC9WFt_"
   },
   "outputs": [],
   "source": [
    "# Se define solamente el valor start\n",
    "squared(end = 3)"
   ]
  },
  {
   "cell_type": "code",
   "execution_count": null,
   "metadata": {
    "id": "HHOKjrmuWFt_"
   },
   "outputs": [],
   "source": [
    "# sin argumentos\n",
    "squared()"
   ]
  },
  {
   "cell_type": "markdown",
   "metadata": {
    "id": "hvpe88T7WFuA"
   },
   "source": [
    "## Mejorando funciones\n",
    "\n",
    "Al observar los resultados para diferentes ejecuciones de la función podemos evaluar si devuelve lo esperado\n"
   ]
  },
  {
   "cell_type": "code",
   "execution_count": null,
   "metadata": {
    "id": "oJVGy45DWFuA"
   },
   "outputs": [],
   "source": [
    "def ATcontent(dna):\n",
    "    return (dna.count('A') + dna.count('T')) / len(dna)\n",
    "at_ratio = ATcontent(\"ATGCGCGATCGATCGAATCG\")\n",
    "print(str(at_ratio))"
   ]
  },
  {
   "cell_type": "code",
   "execution_count": 13,
   "metadata": {
    "colab": {
     "base_uri": "https://localhost:8080/"
    },
    "executionInfo": {
     "elapsed": 14,
     "status": "ok",
     "timestamp": 1671666702096,
     "user": {
      "displayName": "Moises Ruben Gualapuro Gualapuro",
      "userId": "00783441233645351804"
     },
     "user_tz": 300
    },
    "id": "rHjvR_UMWFuA",
    "outputId": "b336f8c0-252f-4085-8a20-f0a8b1e495e6"
   },
   "outputs": [
    {
     "name": "stdout",
     "output_type": "stream",
     "text": [
      "0.45\n",
      "0.5294117647058824\n",
      "0.0\n",
      "0.5\n",
      "0.14285714285714285\n"
     ]
    }
   ],
   "source": [
    "# Función para evaluar el porcentaje de contenido de ncleótidos A y T \n",
    "def ATcontent(dna):\n",
    "    length = len(dna)\n",
    "    a_count = dna.count('A')\n",
    "    t_count = dna.count('T')\n",
    "    at_content = (a_count + t_count) / length\n",
    "    return at_content\n",
    "\n",
    "\n",
    "at_ratio = ATcontent(\"ATGCGCGATCGATCGAATCG\")\n",
    "print(str(at_ratio))\n",
    "print(ATcontent(\"ATGCATGCAACTGTAGC\"))\n",
    "print(ATcontent(\"aactgtagctagctagcagcgta\"))\n",
    "\n",
    "# valores esperados fáciles\n",
    "print(ATcontent(\"ATGC\"))\n",
    "print(ATcontent(\"ATGCNNNNNNNNNN\"))\n"
   ]
  },
  {
   "cell_type": "markdown",
   "metadata": {
    "id": "VEviBKVvWFuB"
   },
   "source": [
    "En los casos anteriores se tiene necesidad d: \n",
    "\n",
    "* uniformizar los resultados\n",
    "* que no cuente si se tiene caracteres diferentes a los nucleótidos A, T, C, G\n",
    "\n",
    "Para ello se puede utilizar la función `assert`"
   ]
  },
  {
   "cell_type": "code",
   "execution_count": 14,
   "metadata": {
    "executionInfo": {
     "elapsed": 229,
     "status": "ok",
     "timestamp": 1671666711091,
     "user": {
      "displayName": "Moises Ruben Gualapuro Gualapuro",
      "userId": "00783441233645351804"
     },
     "user_tz": 300
    },
    "id": "siY4yG7fWFuB"
   },
   "outputs": [],
   "source": [
    "assert ATcontent(\"ATGC\") == 0.5"
   ]
  },
  {
   "cell_type": "code",
   "execution_count": 15,
   "metadata": {
    "colab": {
     "base_uri": "https://localhost:8080/",
     "height": 168
    },
    "executionInfo": {
     "elapsed": 229,
     "status": "error",
     "timestamp": 1671666729791,
     "user": {
      "displayName": "Moises Ruben Gualapuro Gualapuro",
      "userId": "00783441233645351804"
     },
     "user_tz": 300
    },
    "id": "wouu9v4CWFuB",
    "outputId": "bf09eaf0-afe2-42e6-ddcd-92f821a3f849"
   },
   "outputs": [
    {
     "ename": "AssertionError",
     "evalue": "ignored",
     "output_type": "error",
     "traceback": [
      "\u001b[0;31m---------------------------------------------------------------------------\u001b[0m",
      "\u001b[0;31mAssertionError\u001b[0m                            Traceback (most recent call last)",
      "\u001b[0;32m<ipython-input-15-008f218d618a>\u001b[0m in \u001b[0;36m<module>\u001b[0;34m\u001b[0m\n\u001b[0;32m----> 1\u001b[0;31m \u001b[0;32massert\u001b[0m \u001b[0mATcontent\u001b[0m\u001b[0;34m(\u001b[0m\u001b[0;34m\"ATGCNNNNNNNNNN\"\u001b[0m\u001b[0;34m)\u001b[0m \u001b[0;34m==\u001b[0m \u001b[0;36m0.5\u001b[0m\u001b[0;34m\u001b[0m\u001b[0;34m\u001b[0m\u001b[0m\n\u001b[0m",
      "\u001b[0;31mAssertionError\u001b[0m: "
     ]
    }
   ],
   "source": [
    "assert ATcontent(\"ATGCNNNNNNNNNN\") == 0.5"
   ]
  },
  {
   "cell_type": "code",
   "execution_count": 23,
   "metadata": {
    "executionInfo": {
     "elapsed": 198,
     "status": "ok",
     "timestamp": 1671666902863,
     "user": {
      "displayName": "Moises Ruben Gualapuro Gualapuro",
      "userId": "00783441233645351804"
     },
     "user_tz": 300
    },
    "id": "fG28rCl0WFuC"
   },
   "outputs": [],
   "source": [
    "# Función con cambios\n",
    "def ATcontent(dna, sig_figs=3):\n",
    "    dna = dna.replace('N', '')\n",
    "    dna = dna.replace('R', '')\n",
    "    length = len(dna)\n",
    "    a_count = dna.upper().count('A')\n",
    "    t_count = dna.upper().count('T')\n",
    "    at_content = (a_count + t_count) / length\n",
    "    return round(at_content, sig_figs) "
   ]
  },
  {
   "cell_type": "code",
   "execution_count": 16,
   "metadata": {},
   "outputs": [
    {
     "ename": "NameError",
     "evalue": "name 'ATcontent' is not defined",
     "output_type": "error",
     "traceback": [
      "\u001b[1;31m--------------------------------------------------------------------\u001b[0m",
      "\u001b[1;31mNameError\u001b[0m                          Traceback (most recent call last)",
      "\u001b[1;32m~\\AppData\\Local\\Temp/ipykernel_9048/309190840.py\u001b[0m in \u001b[0;36m<module>\u001b[1;34m\u001b[0m\n\u001b[1;32m----> 1\u001b[1;33m \u001b[0mATcontent\u001b[0m\u001b[1;33m(\u001b[0m\u001b[1;34m\"ATCGCGNCGTA\"\u001b[0m\u001b[1;33m)\u001b[0m\u001b[1;33m\u001b[0m\u001b[1;33m\u001b[0m\u001b[0m\n\u001b[0m",
      "\u001b[1;31mNameError\u001b[0m: name 'ATcontent' is not defined"
     ]
    }
   ],
   "source": [
    "ATcontent(\"ATCGCGNCGTA\")"
   ]
  },
  {
   "cell_type": "code",
   "execution_count": 24,
   "metadata": {
    "executionInfo": {
     "elapsed": 197,
     "status": "ok",
     "timestamp": 1671666906836,
     "user": {
      "displayName": "Moises Ruben Gualapuro Gualapuro",
      "userId": "00783441233645351804"
     },
     "user_tz": 300
    },
    "id": "tJTlT1qHWFuC"
   },
   "outputs": [],
   "source": [
    "assert ATcontent(\"ATGC\") == 0.5"
   ]
  },
  {
   "cell_type": "code",
   "execution_count": 25,
   "metadata": {
    "executionInfo": {
     "elapsed": 214,
     "status": "ok",
     "timestamp": 1671666908248,
     "user": {
      "displayName": "Moises Ruben Gualapuro Gualapuro",
      "userId": "00783441233645351804"
     },
     "user_tz": 300
    },
    "id": "RuFOGqpZWFuD"
   },
   "outputs": [],
   "source": [
    "assert ATcontent(\"ATGCNNNNNNNNNNR\") == 0.5"
   ]
  },
  {
   "cell_type": "code",
   "execution_count": 26,
   "metadata": {
    "executionInfo": {
     "elapsed": 314,
     "status": "ok",
     "timestamp": 1671666962300,
     "user": {
      "displayName": "Moises Ruben Gualapuro Gualapuro",
      "userId": "00783441233645351804"
     },
     "user_tz": 300
    },
    "id": "5FiLIbbOWFuD"
   },
   "outputs": [],
   "source": [
    "assert ATcontent(\"ATGCGCGATCGATCGAATCG\") == 0.45"
   ]
  },
  {
   "cell_type": "code",
   "execution_count": 27,
   "metadata": {
    "executionInfo": {
     "elapsed": 214,
     "status": "ok",
     "timestamp": 1671666964895,
     "user": {
      "displayName": "Moises Ruben Gualapuro Gualapuro",
      "userId": "00783441233645351804"
     },
     "user_tz": 300
    },
    "id": "P3MzRdKYWFuE"
   },
   "outputs": [],
   "source": [
    "assert ATcontent(\"ATGCATGCAACTGTAGC\") == 0.529"
   ]
  },
  {
   "cell_type": "code",
   "execution_count": 33,
   "metadata": {
    "colab": {
     "base_uri": "https://localhost:8080/",
     "height": 35
    },
    "executionInfo": {
     "elapsed": 236,
     "status": "ok",
     "timestamp": 1671669795266,
     "user": {
      "displayName": "Moises Ruben Gualapuro Gualapuro",
      "userId": "00783441233645351804"
     },
     "user_tz": 300
    },
    "id": "dqXX3RjAH1IJ",
    "outputId": "4441bcac-37a4-4178-bed9-2367bb4a6a06"
   },
   "outputs": [
    {
     "data": {
      "application/vnd.google.colaboratory.intrinsic+json": {
       "type": "string"
      },
      "text/plain": [
       "'ATATA'"
      ]
     },
     "execution_count": 33,
     "metadata": {},
     "output_type": "execute_result"
    }
   ],
   "source": [
    "dna = \"ATCGCHARDRTA\"\n",
    "new_dna =\"\"\n",
    "for c in dna: \n",
    "  if (c==\"A\") | (c ==\"T\"): \n",
    "    new_dna += c\n",
    "new_dna"
   ]
  },
  {
   "cell_type": "code",
   "execution_count": null,
   "metadata": {
    "id": "zXYTcKgKWFuE"
   },
   "outputs": [],
   "source": [
    "import numpy as np\n",
    "import pandas as pd\n",
    "import matplotlib.pyplot as plt\n",
    "import seaborn as sns"
   ]
  },
  {
   "cell_type": "markdown",
   "metadata": {
    "id": "1U6lAFcuWFuE"
   },
   "source": [
    "# Modulos\n",
    "\n",
    "* Python permite agrupar variables, funciones, objetos, etc. en un fichero llamado módulo.\n",
    "* Un módulo es un fichero de texto que contiene codigo en Python, con la extensión `.py`.\n",
    "* Dentro de un módulo, el nombre del mismo se almacena en la variable `__name__`.\n"
   ]
  },
  {
   "cell_type": "markdown",
   "metadata": {
    "id": "1Ty_LAqjWFuE"
   },
   "source": [
    "## Importando módulos\n",
    "\n",
    "* `import mymodule`, permite importar el módulo completo. Para acceder a la función se debe escribir `mymodule.myfunction()`. Util cuando se tiene otros módulos que tienen nombres de funciones similares. \n",
    "* `from mymodule import myfunction` de un módulo se importa una función específica. \n",
    "* `import mymodule as mm` es una módulo completo dodne el nombre extenso del módulo se simplifica. Ayuda a tener facilidad de escritura de funciones a utilizar. \n",
    "* `from mymodule import *` importa todas las funciones del módulo. Puede sobrepoblar de funciones y sobreesribir funciones existentes. No es recomendable utilizar. \n",
    "\n",
    "\n",
    "Luego de importar los módulos, se debe considerar lo siguiente: \n",
    "\n",
    "* Se introduce en nombre `module` en el _namespace_ actual, de forma que se puede acceder a cualquier elemento del modulo mediante `module.name`.\n",
    "* Las sentencias que existan dentro del módulo se van a ejecutar, de forma que se pueden inicializar valores, etc.\n",
    "    * De todos modos, un módulo solo se inicializa una vez\n",
    "* Cada módulo tiene su propia tabla de simbolos, por lo que se pueden utilizar variables globales sin problemas.\n",
    "* Un módulo puede importar otros módulos, pero no puede haber bucles.\n",
    "\n",
    "Se puede crear módulos propios y utilizarlos. Solamente guarde las funciones en un archivo con terminación `modulopropio.py` y coloque el archivo en un directorio accesible, de preferencia en en el **mismo directorio**. Luego, puede escribir `import modulopropio` para acceder a todas sus funciones."
   ]
  },
  {
   "cell_type": "code",
   "execution_count": 1,
   "metadata": {
    "id": "lAqCeEoz04hd"
   },
   "outputs": [
    {
     "ename": "NameError",
     "evalue": "name 'sqrt' is not defined",
     "output_type": "error",
     "traceback": [
      "\u001b[1;31m--------------------------------------------------------------------\u001b[0m",
      "\u001b[1;31mNameError\u001b[0m                          Traceback (most recent call last)",
      "\u001b[1;32m~\\AppData\\Local\\Temp/ipykernel_9048/3918740153.py\u001b[0m in \u001b[0;36m<module>\u001b[1;34m\u001b[0m\n\u001b[1;32m----> 1\u001b[1;33m \u001b[0msqrt\u001b[0m\u001b[1;33m(\u001b[0m\u001b[1;36m9\u001b[0m\u001b[1;33m)\u001b[0m\u001b[1;33m\u001b[0m\u001b[1;33m\u001b[0m\u001b[0m\n\u001b[0m",
      "\u001b[1;31mNameError\u001b[0m: name 'sqrt' is not defined"
     ]
    }
   ],
   "source": [
    "sqrt(9)"
   ]
  },
  {
   "cell_type": "code",
   "execution_count": 3,
   "metadata": {
    "id": "KvSF4QdvWFuE"
   },
   "outputs": [
    {
     "name": "stdout",
     "output_type": "stream",
     "text": [
      "Object `sqrt` not found.\n"
     ]
    }
   ],
   "source": [
    "?sqrt"
   ]
  },
  {
   "cell_type": "code",
   "execution_count": 5,
   "metadata": {},
   "outputs": [],
   "source": [
    "import math"
   ]
  },
  {
   "cell_type": "code",
   "execution_count": 7,
   "metadata": {},
   "outputs": [
    {
     "data": {
      "text/plain": [
       "2.8284271247461903"
      ]
     },
     "execution_count": 7,
     "metadata": {},
     "output_type": "execute_result"
    }
   ],
   "source": [
    "math.sqrt(8)"
   ]
  },
  {
   "cell_type": "code",
   "execution_count": null,
   "metadata": {},
   "outputs": [],
   "source": [
    "math."
   ]
  },
  {
   "cell_type": "code",
   "execution_count": 13,
   "metadata": {},
   "outputs": [
    {
     "data": {
      "text/plain": [
       "0.479425538604203"
      ]
     },
     "execution_count": 13,
     "metadata": {},
     "output_type": "execute_result"
    }
   ],
   "source": [
    "sin(0.5)"
   ]
  },
  {
   "cell_type": "code",
   "execution_count": 12,
   "metadata": {},
   "outputs": [],
   "source": [
    "from math import sqrt, cos, sin"
   ]
  },
  {
   "cell_type": "code",
   "execution_count": 9,
   "metadata": {},
   "outputs": [
    {
     "data": {
      "text/plain": [
       "2.8284271247461903"
      ]
     },
     "execution_count": 9,
     "metadata": {},
     "output_type": "execute_result"
    }
   ],
   "source": [
    "sqrt(8)"
   ]
  },
  {
   "cell_type": "code",
   "execution_count": 14,
   "metadata": {},
   "outputs": [],
   "source": [
    "# módulos con nombres muy largos: RENOMBRAR\n",
    "%matplotlib inline\n",
    "import matplotlib.pyplot as plt # visualización, gráficas\n"
   ]
  },
  {
   "cell_type": "code",
   "execution_count": 15,
   "metadata": {},
   "outputs": [
    {
     "data": {
      "text/plain": [
       "0.15425144988758405"
      ]
     },
     "execution_count": 15,
     "metadata": {},
     "output_type": "execute_result"
    }
   ],
   "source": [
    "raton.cos(30)"
   ]
  },
  {
   "cell_type": "code",
   "execution_count": null,
   "metadata": {
    "id": "LMZFvYA_WFuF"
   },
   "outputs": [],
   "source": [
    "# Ejemplo, modulo \"math\"\n",
    "import math\n",
    "print(math.sqrt(7))\n",
    "help(math.sqrt)\n",
    "help(math.remainder)\n",
    "print(math.sqrt(144))\n",
    "print(math.factorial(5))"
   ]
  },
  {
   "cell_type": "code",
   "execution_count": 17,
   "metadata": {},
   "outputs": [
    {
     "data": {
      "text/plain": [
       "0.4"
      ]
     },
     "execution_count": 17,
     "metadata": {},
     "output_type": "execute_result"
    }
   ],
   "source": [
    "# Llamar al modulo modadn \n",
    "import modadn\n",
    "modadn.ATcontent(\"ATCGCGNCGTA\")\n"
   ]
  },
  {
   "cell_type": "code",
   "execution_count": 18,
   "metadata": {},
   "outputs": [
    {
     "data": {
      "text/plain": [
       "0.6"
      ]
     },
     "execution_count": 18,
     "metadata": {},
     "output_type": "execute_result"
    }
   ],
   "source": [
    "modadn.GCcontent(\"ATCGCGNCGTA\")"
   ]
  },
  {
   "cell_type": "code",
   "execution_count": null,
   "metadata": {
    "id": "Ccrw30t404hd"
   },
   "outputs": [],
   "source": [
    "\n",
    "\n",
    "\n",
    "\n",
    "import modulogbi6 as gbi"
   ]
  },
  {
   "cell_type": "code",
   "execution_count": null,
   "metadata": {
    "id": "9PfjSgE104hd",
    "outputId": "c1e91042-aa46-40a7-b1eb-4418dc0847d4"
   },
   "outputs": [
    {
     "data": {
      "text/plain": [
       "53.33"
      ]
     },
     "execution_count": 2,
     "metadata": {},
     "output_type": "execute_result"
    }
   ],
   "source": [
    "gbi.ATcontent(\"ATANNNACTCGTACNNNNNGGCT\", 2)"
   ]
  },
  {
   "cell_type": "code",
   "execution_count": null,
   "metadata": {
    "id": "1hX59VJ504he",
    "outputId": "4b3c013f-76b7-40cc-841e-503b82c1af29"
   },
   "outputs": [
    {
     "data": {
      "text/plain": [
       "[53.3, 46.7, 1]"
      ]
     },
     "execution_count": 3,
     "metadata": {},
     "output_type": "execute_result"
    }
   ],
   "source": [
    "seq = \"ATANNNACTCGTACNNNNNGGCT\"\n",
    "resultado = [gbi.ATcontent(seq, 1), gbi.GCcontent(seq, 1), \n",
    "             gbi.GCtoAT(2, 3)]\n",
    "resultado"
   ]
  },
  {
   "cell_type": "code",
   "execution_count": null,
   "metadata": {
    "id": "aal5psIe04hf"
   },
   "outputs": [],
   "source": [
    "import contador # es un modulo creado por GBI6"
   ]
  },
  {
   "cell_type": "code",
   "execution_count": null,
   "metadata": {
    "id": "7XattUFg04hf"
   },
   "outputs": [],
   "source": [
    "gc = contador.GCcontent(\"ATACGTACGGCTGGGTCGCTGA\", 1)\n",
    "at = contador.ATcontent(\"ATACGTACGGCTGGGTCGCTGA\", 1)\n",
    "contador.potencia(gc, at)"
   ]
  },
  {
   "cell_type": "code",
   "execution_count": null,
   "metadata": {
    "id": "HLdpfbX604hf"
   },
   "outputs": [],
   "source": [
    "?contador.GCcontent"
   ]
  },
  {
   "cell_type": "code",
   "execution_count": null,
   "metadata": {
    "id": "-kIOO-IQecmS"
   },
   "outputs": [],
   "source": [
    "%matplotlib inline\n",
    "import pandas as pd # Tablas\n",
    "import seaborn as sns # Graficos\n",
    "import numpy as np # Algebra lineal, calculo vectorial, modelos\n",
    "import matplotlib.pyplot as plt # Visualizaciòn\n",
    "import scipy # Matemaàticas avanzadas\n",
    "import sklearn # machine learning \n",
    "import tensorflow as tf# machine learning\n",
    "pd.DataFrame # crear tablas\n",
    "\n",
    "from sklearn import linear_models\n",
    "\n"
   ]
  },
  {
   "cell_type": "markdown",
   "metadata": {
    "id": "bCZcJkgEWFuF"
   },
   "source": [
    "* También se puede utilizar `from module import name` de forma que `name` se introduce directamente en el namespace actual."
   ]
  },
  {
   "cell_type": "code",
   "execution_count": null,
   "metadata": {
    "id": "RJ8_vVu0WFuF"
   },
   "outputs": [],
   "source": [
    "from math import sqrt\n",
    "\n",
    "sqrt(36)"
   ]
  },
  {
   "cell_type": "markdown",
   "metadata": {
    "id": "LqxMfPRCWFuF"
   },
   "source": [
    "* Se puede utilizar el keyword `as` para renombrar lo que se está importando, en caso de que haya alguna colision"
   ]
  },
  {
   "cell_type": "code",
   "execution_count": null,
   "metadata": {
    "id": "hlSh6J0zWFuF"
   },
   "outputs": [],
   "source": [
    "import math as mathematics\n",
    "mathematics.factorial(6)"
   ]
  },
  {
   "cell_type": "code",
   "execution_count": null,
   "metadata": {
    "id": "HV2wCo-YWFuG"
   },
   "outputs": [],
   "source": [
    "from math import sqrt as raiz\n",
    "raiz(36)\n"
   ]
  },
  {
   "cell_type": "code",
   "execution_count": null,
   "metadata": {
    "id": "zvC8Ax2DWFuG"
   },
   "outputs": [],
   "source": [
    "import pandas as pd # Para trabajar con tablas\n",
    "import matplotlib.pyplot as plt # visualización\n",
    "import seaborn as sns  # visualización tipo R\n",
    "from sklearn import linear_model # Modelamiento, regressiones machine learning\n",
    "import numpy as np #  procesamiento numèrico, algebra lineal, procesamiento de imágenes"
   ]
  },
  {
   "cell_type": "code",
   "execution_count": null,
   "metadata": {
    "id": "ffzljtGRWFuG"
   },
   "outputs": [],
   "source": []
  },
  {
   "cell_type": "markdown",
   "metadata": {
    "id": "95W0LNwEWFuG"
   },
   "source": [
    "### Ejemplo: frecuencia alélica\n",
    "Para practicar la codificación utilizando una estructura de programa más compleja, vamos a escribir una simulación sobre genética de poblaciones. Queremos simular una población de organismos N monoicos (es decir, hermafroditas), diploides (es decir, portadores de dos copias homólogas de cada cromosoma). Nos centramos en un gen en particular, que tiene dos formas alternativas (alelos), A y a. \n",
    "\n",
    "Inicialmente, a los individuos se les asigna un genotipo, recibiendo el alelo A con probabilidad p, y el alelo a con probabilidad 1 - p. En cada generación, los organismos se reproducen y luego mueren (generaciones que no se superponen). Para simplificar, asumimos que el tamaño de la población es constante, que no hay mutaciones, que no hay selección (es decir, los diferentes genotipos tienen la misma aptitud) y que el apareamiento es completamente aleatorio (para cada descendencia, elegimos dos padres).\n",
    "\n",
    "Luego usamos la simulación para explorar el concepto de deriva genética: para poblaciones pequeñas, incluso los alelos que no aportan una ventaja de aptitud pueden ir a la fijación (es decir, estar presentes en el 100% de los individuos).\n",
    "Escribir una simulación compleja puede parecer abrumador al principio, pero dividir el programa en sus componentes básicos (es decir, funciones separadas) lo hace mucho más fácil. Un programa \"maestro\" llamará a las funciones y producirá el resultado deseado. Antes de escribir cualquier código, esbozamos una posible división en funciones, escribiendo en inglés simple:\n",
    "\n",
    "* Una función que inicializa la población: debe tomar como entrada el tamaño de la población (N) y la probabilidad de tener un alelo A (p). Esta función devuelve una población completa.\n",
    "* Una función que calcula las frecuencias genotípicas, que necesitaremos para determinar si un alelo se ha fijado: la función debe tomar una población como entrada y generar el recuento de cada genotipo.\n",
    "* Una función de reproducción que toma la población actual y produce la próxima generación.\n",
    "\n",
    "También debemos elegir una estructura de datos para nuestro programa. Aquí representamos una población como una lista de tuplas, donde cada tupla es un individuo con sus dos cromosomas (por ejemplo, (\"A\", \"A\") sería un individuo homocigoto).\n",
    "Empezamos importando el módulo SciPy. Este módulo (cubierto en el capítulo 6) contiene muchas funciones científicas útiles. Aquí lo usamos solo para dibujar números aleatorios. Escribimos la primera función, que genera una población:"
   ]
  },
  {
   "cell_type": "code",
   "execution_count": 10,
   "metadata": {
    "id": "BoMblc5TWFuG"
   },
   "outputs": [],
   "source": [
    "# FUNCIÓN 1. de creación de una población con alelos al azar\n",
    "\n",
    "import scipy # for random numbers\n",
    "\n",
    "def build_population(N, p):\n",
    "    \"\"\"The population consists of N individuals.Each individual has two chromosomes, containing\n",
    "    allele \"A\" or \"a\", with probability p or 1-p, respectively.The population is a list of tuples.\n",
    "    \"\"\"\n",
    "    population = []\n",
    "    for i in range(N):\n",
    "        allele1 = \"A\"\n",
    "        if scipy.random.rand() > p:\n",
    "            allele1 = \"a\"\n",
    "        allele2 = \"A\"\n",
    "        if scipy.random.rand() > p:\n",
    "            allele2 = \"a\"\n",
    "        population.append((allele1, allele2))\n",
    "    return population"
   ]
  },
  {
   "cell_type": "code",
   "execution_count": null,
   "metadata": {
    "id": "MMDRVDMj04hh"
   },
   "outputs": [],
   "source": [
    "#!pip install scipy"
   ]
  },
  {
   "cell_type": "code",
   "execution_count": 17,
   "metadata": {
    "colab": {
     "base_uri": "https://localhost:8080/"
    },
    "executionInfo": {
     "elapsed": 262,
     "status": "ok",
     "timestamp": 1643146448155,
     "user": {
      "displayName": "Moises Ruben Gualapuro Gualapuro",
      "photoUrl": "https://lh3.googleusercontent.com/a-/AOh14Gg-6jXWI5Vp_hkzSluGyIuLVjneL-URpHaaSkHpX6rGrCQabTQULQEZkArBtCk1PjyqtChepTxuGapUalAvaDJaXK0Clzs1OZrf0lNfjbuc7qsh0Mh_jRBiO1Uv67Y_umj077sgjJE4lnEnWT_T2vXBbGPr7Zo7wRZG46-Kbv4dISqO9JMRkThcdg_d79HjOBchu1NTk3GUl1WZITgvP7kaLqj0LmbVej4gN2_FY-aXwPkylJR9aLNjQdzd52As8bG1RBpYIbv_KdsennggoW6Ngi0Nq7eLoL9n86shcTR7y5SyaNtKrDnkThrQUhxzX-YUS3_pvXKo-lVg4sowpBoZHoyf3amLej55qJ0f83Nr9f0htCIxk-p-6o11nHDZOyiwmRvvs36iHYuwSIpYgqciUDhvmaNEiF-FI-PKSkhymAsbB1y_ZRVmKG7JMHm1o7sEpNsTlzhFnMuReLCLDd4YlllekKZwe-wK9kkoWLq5oFAizedK--_FNxcegsbE5tjImHWOhdfppv_TpMUhClJ9kL9owXxnMcidvLsqAC_1pqbYu5lgQKnD4ENN901gm0arWZ2oYfDraTDDb2gMvDxC5S_qr2coeexklGQYk8gA9FkVLhSo26BWyZyVNBGZ65o2QhLhOGHLVnp89iR_6asRT2wYph3WhEV4OzAgkZni2FKo78FPwOu8URYxV5smK-9l6BV2Aojc2RPNGz4OxC2qlUfOMgHcixnx2pGhlOIp3q8w35YFqlkp8XpoxOfS8_xZUw=s64",
      "userId": "00783441233645351804"
     },
     "user_tz": 300
    },
    "id": "AQtpCHb7WFuH",
    "outputId": "17aefe9c-1572-4aa1-ee9e-eba627c038c7"
   },
   "outputs": [
    {
     "data": {
      "text/plain": [
       "[('A', 'A'),\n",
       " ('A', 'a'),\n",
       " ('A', 'A'),\n",
       " ('A', 'A'),\n",
       " ('a', 'A'),\n",
       " ('a', 'A'),\n",
       " ('A', 'a'),\n",
       " ('A', 'a'),\n",
       " ('a', 'A'),\n",
       " ('A', 'A')]"
      ]
     },
     "execution_count": 17,
     "metadata": {},
     "output_type": "execute_result"
    }
   ],
   "source": [
    "build_population(N = 10, p = 0.54)"
   ]
  },
  {
   "cell_type": "code",
   "execution_count": 12,
   "metadata": {},
   "outputs": [
    {
     "data": {
      "text/plain": [
       "0.3444494508125854"
      ]
     },
     "execution_count": 12,
     "metadata": {},
     "output_type": "execute_result"
    }
   ],
   "source": [
    "scipy.random.rand()"
   ]
  },
  {
   "cell_type": "code",
   "execution_count": 3,
   "metadata": {
    "id": "kcQYGDdeWFuH"
   },
   "outputs": [],
   "source": [
    "# FUNCIÓN 2. Conteo de pares de alelos\n",
    "def compute_frequencies(population):\n",
    "    \"\"\" Count the genotypes.Returns a dictionary of genotypic frequencies.\"\"\"\n",
    "    AA = population.count((\"A\", \"A\"))\n",
    "    Aa = population.count((\"A\", \"a\"))\n",
    "    aA = population.count((\"a\", \"A\"))\n",
    "    aa = population.count((\"a\", \"a\"))\n",
    "    return({\"AA\": AA, \"aa\": aa, \"Aa\": Aa, \"aA\": aA})"
   ]
  },
  {
   "cell_type": "code",
   "execution_count": 16,
   "metadata": {
    "id": "wDRqUM92WFuH"
   },
   "outputs": [
    {
     "name": "stdout",
     "output_type": "stream",
     "text": [
      "{'AA': 29, 'aa': 273, 'Aa': 96, 'aA': 102}\n"
     ]
    }
   ],
   "source": [
    "import numpy as np\n",
    "np.random.seed(seed=123)\n",
    "pop1 = build_population(500, 0.27)\n",
    "freq_pop = compute_frequencies(pop1)\n",
    "print(freq_pop)"
   ]
  },
  {
   "cell_type": "code",
   "execution_count": 19,
   "metadata": {
    "id": "NsbXRBu1WFuH"
   },
   "outputs": [],
   "source": [
    "# FUNCIÓN 3. Creación de nueva población\n",
    "import numpy as np\n",
    "def reproduce_population(population):\n",
    "    \"\"\" Create new generation through reproduction. For each of N new offspring:\n",
    "    - choose the parents at random, \n",
    "    - the offspring receives a chromosome from each of the parents.\n",
    "    \"\"\"\n",
    "    new_generation = []\n",
    "    N = len(population)\n",
    "    for i in range(N):\n",
    "        # random integer between 0 and N-1\n",
    "        dad = np.random.randint(N)\n",
    "        mom = np.random.randint(N)\n",
    "        # which chromosome comes from mom\n",
    "        chr_mom = np.random.randint(2)\n",
    "        offspring = (population[mom][chr_mom], population[dad][1 - chr_mom])\n",
    "        #if offspring == (\"a\", \"a\"): \n",
    "          #next()\n",
    "        new_generation.append(offspring)\n",
    "    return new_generation"
   ]
  },
  {
   "cell_type": "code",
   "execution_count": 22,
   "metadata": {
    "colab": {
     "base_uri": "https://localhost:8080/"
    },
    "executionInfo": {
     "elapsed": 372,
     "status": "ok",
     "timestamp": 1643146797934,
     "user": {
      "displayName": "Moises Ruben Gualapuro Gualapuro",
      "photoUrl": "https://lh3.googleusercontent.com/a-/AOh14Gg-6jXWI5Vp_hkzSluGyIuLVjneL-URpHaaSkHpX6rGrCQabTQULQEZkArBtCk1PjyqtChepTxuGapUalAvaDJaXK0Clzs1OZrf0lNfjbuc7qsh0Mh_jRBiO1Uv67Y_umj077sgjJE4lnEnWT_T2vXBbGPr7Zo7wRZG46-Kbv4dISqO9JMRkThcdg_d79HjOBchu1NTk3GUl1WZITgvP7kaLqj0LmbVej4gN2_FY-aXwPkylJR9aLNjQdzd52As8bG1RBpYIbv_KdsennggoW6Ngi0Nq7eLoL9n86shcTR7y5SyaNtKrDnkThrQUhxzX-YUS3_pvXKo-lVg4sowpBoZHoyf3amLej55qJ0f83Nr9f0htCIxk-p-6o11nHDZOyiwmRvvs36iHYuwSIpYgqciUDhvmaNEiF-FI-PKSkhymAsbB1y_ZRVmKG7JMHm1o7sEpNsTlzhFnMuReLCLDd4YlllekKZwe-wK9kkoWLq5oFAizedK--_FNxcegsbE5tjImHWOhdfppv_TpMUhClJ9kL9owXxnMcidvLsqAC_1pqbYu5lgQKnD4ENN901gm0arWZ2oYfDraTDDb2gMvDxC5S_qr2coeexklGQYk8gA9FkVLhSo26BWyZyVNBGZ65o2QhLhOGHLVnp89iR_6asRT2wYph3WhEV4OzAgkZni2FKo78FPwOu8URYxV5smK-9l6BV2Aojc2RPNGz4OxC2qlUfOMgHcixnx2pGhlOIp3q8w35YFqlkp8XpoxOfS8_xZUw=s64",
      "userId": "00783441233645351804"
     },
     "user_tz": 300
    },
    "id": "PMQMKfpvWFuH",
    "outputId": "1fcaeb92-3581-49d3-9e5d-15a44c411344"
   },
   "outputs": [
    {
     "name": "stdout",
     "output_type": "stream",
     "text": [
      "{'AA': 29, 'aa': 273, 'Aa': 96, 'aA': 102}\n"
     ]
    },
    {
     "data": {
      "text/plain": [
       "0.454"
      ]
     },
     "execution_count": 22,
     "metadata": {},
     "output_type": "execute_result"
    }
   ],
   "source": [
    "fmy_pop = compute_frequencies(my_pop)\n",
    "print(fmy_pop)\n",
    "(500 - fmy_pop[\"aa\"])/500"
   ]
  },
  {
   "cell_type": "code",
   "execution_count": 23,
   "metadata": {
    "colab": {
     "base_uri": "https://localhost:8080/"
    },
    "executionInfo": {
     "elapsed": 5,
     "status": "ok",
     "timestamp": 1643147524891,
     "user": {
      "displayName": "Moises Ruben Gualapuro Gualapuro",
      "photoUrl": "https://lh3.googleusercontent.com/a-/AOh14Gg-6jXWI5Vp_hkzSluGyIuLVjneL-URpHaaSkHpX6rGrCQabTQULQEZkArBtCk1PjyqtChepTxuGapUalAvaDJaXK0Clzs1OZrf0lNfjbuc7qsh0Mh_jRBiO1Uv67Y_umj077sgjJE4lnEnWT_T2vXBbGPr7Zo7wRZG46-Kbv4dISqO9JMRkThcdg_d79HjOBchu1NTk3GUl1WZITgvP7kaLqj0LmbVej4gN2_FY-aXwPkylJR9aLNjQdzd52As8bG1RBpYIbv_KdsennggoW6Ngi0Nq7eLoL9n86shcTR7y5SyaNtKrDnkThrQUhxzX-YUS3_pvXKo-lVg4sowpBoZHoyf3amLej55qJ0f83Nr9f0htCIxk-p-6o11nHDZOyiwmRvvs36iHYuwSIpYgqciUDhvmaNEiF-FI-PKSkhymAsbB1y_ZRVmKG7JMHm1o7sEpNsTlzhFnMuReLCLDd4YlllekKZwe-wK9kkoWLq5oFAizedK--_FNxcegsbE5tjImHWOhdfppv_TpMUhClJ9kL9owXxnMcidvLsqAC_1pqbYu5lgQKnD4ENN901gm0arWZ2oYfDraTDDb2gMvDxC5S_qr2coeexklGQYk8gA9FkVLhSo26BWyZyVNBGZ65o2QhLhOGHLVnp89iR_6asRT2wYph3WhEV4OzAgkZni2FKo78FPwOu8URYxV5smK-9l6BV2Aojc2RPNGz4OxC2qlUfOMgHcixnx2pGhlOIp3q8w35YFqlkp8XpoxOfS8_xZUw=s64",
      "userId": "00783441233645351804"
     },
     "user_tz": 300
    },
    "id": "FIyVPX_1WFuI",
    "outputId": "416c9fc6-dc17-41f6-b5ac-60269308f5a2"
   },
   "outputs": [
    {
     "name": "stdout",
     "output_type": "stream",
     "text": [
      "{'AA': 29, 'aa': 273, 'Aa': 96, 'aA': 102}\n",
      "{'AA': 28, 'aa': 272, 'Aa': 103, 'aA': 97}\n",
      "{'AA': 37, 'aa': 275, 'Aa': 96, 'aA': 92}\n"
     ]
    }
   ],
   "source": [
    "new_pop = reproduce_population(my_pop)\n",
    "new_pop2 = reproduce_population(new_pop)\n",
    "print(compute_frequencies(my_pop))\n",
    "print(compute_frequencies(new_pop))\n",
    "print(compute_frequencies(new_pop2))"
   ]
  },
  {
   "cell_type": "markdown",
   "metadata": {
    "id": "SKdLXoj7WFuI"
   },
   "source": [
    "poblacion padre --> conteo frecuencias \n",
    "\n",
    "población padre --> nueva generación --> conteo de frecuencias\n"
   ]
  },
  {
   "cell_type": "markdown",
   "metadata": {
    "id": "2Z6y5ChnWFuI"
   },
   "source": [
    "## Ejecutando módulos\n",
    "\n",
    "* Un módulo también se puede ejecutar desde la consola, de la siguiente manera\n",
    "```bash\n",
    "python module.py\n",
    "```\n",
    "* ¿Cómo diferenciar lo que queremos que se ejecute cuando el módulo se importe y cuando el módulo se ejecute?\n",
    "    * El nombre del módulo se almacena en la variable `__name__`.\n",
    "    * Cuando el módulo se ejecuta en consola, esta variable toma el valor `__main__`"
   ]
  },
  {
   "cell_type": "code",
   "execution_count": 30,
   "metadata": {},
   "outputs": [],
   "source": [
    "import jhon as pop"
   ]
  },
  {
   "cell_type": "code",
   "execution_count": 31,
   "metadata": {
    "id": "8VkIsuSVWFuI"
   },
   "outputs": [
    {
     "name": "stdout",
     "output_type": "stream",
     "text": [
      "[('A', 'a'), ('A', 'A'), ('A', 'A'), ('a', 'a'), ('A', 'a'), ('a', 'a'), ('A', 'A'), ('a', 'a'), ('a', 'A'), ('a', 'A')]\n",
      "{'AA': 3, 'aa': 3, 'Aa': 2, 'aA': 2}\n",
      "[('A', 'a'), ('A', 'A'), ('A', 'a'), ('A', 'a'), ('A', 'a'), ('a', 'a'), ('a', 'a'), ('A', 'A'), ('A', 'a'), ('a', 'a')]\n",
      "{'AA': 2, 'aa': 3, 'Aa': 5, 'aA': 0}\n"
     ]
    }
   ],
   "source": [
    "# import poblaciones as pop\n",
    "pop1 = pop.build_population(10, 0.35)\n",
    "freq_pop1 = pop.compute_frequencies(pop1)\n",
    "pop2 = pop.reproduce_population(pop1)\n",
    "freq_pop2 = pop.compute_frequencies(pop2)\n",
    "print(pop1)\n",
    "print(freq_pop1)\n",
    "print(pop2)\n",
    "print(freq_pop2)\n"
   ]
  },
  {
   "cell_type": "code",
   "execution_count": 32,
   "metadata": {
    "id": "CpcUnAkOWFuI"
   },
   "outputs": [],
   "source": [
    "# Crear una función utilizando funciones del módulo drift\n",
    "def simulate_drift(N, p):\n",
    "    # initialize the population\n",
    "    my_pop = build_population(N, p)\n",
    "    fixation = False # condiciòn incial de fijacion\n",
    "    num_generations = 0 # población parental\n",
    "    while fixation == False:\n",
    "        # compute genotype counts\n",
    "        genotype_counts = compute_frequencies(my_pop)\n",
    "        # if one allele went to fixation, end\n",
    "        if (genotype_counts[\"AA\"] == N or genotype_counts[\"aa\"] == N):\n",
    "            print(\"An allele reached fixation at generation\", num_generations)\n",
    "            print(\"The genotype counts are\")\n",
    "            print(genotype_counts)\n",
    "            fixation == True\n",
    "            break\n",
    "        # if not, reproduce\n",
    "        my_pop = reproduce_population(my_pop)\n",
    "        num_generations += 1\n",
    "    return num_generations, genotype_counts\n"
   ]
  },
  {
   "cell_type": "code",
   "execution_count": 40,
   "metadata": {
    "id": "facOaP-BWFuJ"
   },
   "outputs": [
    {
     "name": "stdout",
     "output_type": "stream",
     "text": [
      "An allele reached fixation at generation 371\n",
      "The genotype counts are\n",
      "{'AA': 100, 'aa': 0, 'Aa': 0, 'aA': 0}\n"
     ]
    },
    {
     "data": {
      "text/plain": [
       "(371, {'AA': 100, 'aa': 0, 'Aa': 0, 'aA': 0})"
      ]
     },
     "execution_count": 40,
     "metadata": {},
     "output_type": "execute_result"
    }
   ],
   "source": [
    "np.random.seed(seed=0)\n",
    "sim1 = simulate_drift(100, 0.65)\n",
    "sim1"
   ]
  },
  {
   "cell_type": "markdown",
   "metadata": {
    "id": "idPSp8PwWFuJ"
   },
   "source": [
    "Como la simulación implica aleatoriedad, entonces los valores cambian con cada ejecución. Si desea almacenar su población creada aleatoriamente, para luego poder trabajar con la misma versión exacta, puede usar el módulo `pickle`. Este módulo puede seleccionar objetos de Python, como tuplas, listas, conjuntos y diccionarios, lo que los convierte en un flujo de bytes que luego se puede eliminar. "
   ]
  },
  {
   "cell_type": "code",
   "execution_count": null,
   "metadata": {
    "id": "NL0gmKKaWFuJ"
   },
   "outputs": [],
   "source": [
    "import pickle\n",
    "# save Python object to file\n",
    "pickle.dump(my_pop, open(\"population.pickle\", \"wb\"))\n",
    "population = pickle.load(open(\"population.pickle\", \"rb\"))\n",
    "print(population)"
   ]
  },
  {
   "cell_type": "markdown",
   "metadata": {
    "id": "NCNPSxDzWFuJ"
   },
   "source": [
    "## Estilo de escritura\n",
    "\n",
    "Con la escritura de códigos se cumple la frase: `el código se lee con más frecuencia de lo que se escribe`. \n",
    "\n",
    "Es una buena práctica pensar en los potenciales lectores lectores de su código: \n",
    "\n",
    "* ¿Puede otro científico entender lo que está haciendo?\n",
    "    * ¿cómo lo está haciendo?\n",
    "    * ¿por qué lo está haciendo?\n",
    "    \n",
    "* Aún más importante, ¿podrá comprender su propio código dentro de seis meses? \n",
    "\n",
    "No se trata de una cuestión puramente académica, dado que la publicación de un artículo lleva mucho tiempo. Cuando las revisiones estén de vuelta y necesite modificar su código, tenerlo bien documentado y organizado le facilitará la vida. Las siguientes pautas están destinadas a aumentar la legibilidad de su código:\n",
    "\n",
    "* Utilice cuatro espacios por nivel de sangría; no pestañas.\n",
    "* Divida las líneas largas (especialmente los argumentos de las funciones) usando paréntesis:"
   ]
  },
  {
   "cell_type": "markdown",
   "metadata": {
    "id": "afgzqO4WWFuK"
   },
   "source": [
    "```python\n",
    "# CORRECTO:\n",
    "def my_function_name(argument1, argument2, \n",
    "                     argument3, argument4, \n",
    "                     argument5):\n",
    "    one_operation()\n",
    "    another_operation()\n",
    "    if condition:\n",
    "        yet_another_operation()\n",
    "    return my_value\n",
    "\n",
    "for each_item in my_list:\n",
    "    for each_element in my_item:\n",
    "        do_something()\n",
    "        \n",
    "        \n",
    "        \n",
    "# INCORRECTO:\n",
    "def my_function_name(\n",
    "    argument1, argument2,\n",
    "    argument3, argument4,\n",
    "    argument5):\n",
    "    one_operation()\n",
    "    another_operation()\n",
    "    if condition:\n",
    "        yet_another_operation()\n",
    "    return my_value\n",
    "\n",
    "\n",
    "for each_item in my_list:\n",
    "    for each_element in my_item:\n",
    "            do_something()\n",
    "\n",
    "```\n",
    "\n",
    "\n"
   ]
  },
  {
   "cell_type": "markdown",
   "metadata": {
    "id": "FeYFjO7_WFuK"
   },
   "source": [
    "* Separate functions using blank lines.\n",
    "* Use a new line for each operation:\n",
    "\n",
    "```python\n",
    "# CORRECTO:\n",
    "import scipy\n",
    "import re\n",
    "\n",
    "\n",
    "# INCORRECTO:\n",
    "import scipy,re\n",
    "\n",
    "```"
   ]
  },
  {
   "cell_type": "markdown",
   "metadata": {
    "id": "32rnGp-PWFuK"
   },
   "source": [
    "* Import packages and modules at the beginning of the file, in this order:\n",
    "    1. Standard modules (i.e., those shipped with Python)\n",
    "    2. Third-party modules (i.e., those developed by other groups)\n",
    "    3. Modules you have developed\n",
    "* Put spaces around operators (unless using the : to “slice” a list); use parentheses to clarify the precedence of operators:\n",
    "\n",
    "\n",
    "```python\n",
    "# CORRECTO:\n",
    "a = b ** c\n",
    "z = [a, b, c, d]\n",
    "n = n * (n - 1)\n",
    "k = (a * b) + (c * d)\n",
    "my_list = another_list[1:n]\n",
    "\n",
    "#\n",
    "# INCORRECTO:\n",
    "a=b**c\n",
    "z=[ a,b,c,d ]\n",
    "n =n*(n-1)\n",
    "k=a*b+c*d\n",
    "my_list = another_list[1 : n]\n",
    "```"
   ]
  },
  {
   "cell_type": "code",
   "execution_count": null,
   "metadata": {
    "id": "ZAHxI_n0WFuK"
   },
   "outputs": [],
   "source": [
    "## errores de sintaxis\n",
    "a = \"texto\" \n",
    "b = \"\"\n",
    "c = 2\n",
    "d ) 0.1\n",
    "a == b + c  + \"\"  + c + d"
   ]
  },
  {
   "cell_type": "code",
   "execution_count": null,
   "metadata": {
    "id": "C_FM0ACSWFuL"
   },
   "outputs": [],
   "source": [
    "# error de indentación\n",
    "\n",
    "for i in range(2):\n",
    "    for j in range(3):\n",
    "    print(i, j)"
   ]
  },
  {
   "cell_type": "code",
   "execution_count": null,
   "metadata": {
    "id": "FllIjjQaWFuL"
   },
   "outputs": [],
   "source": [
    "a = [1, 2, 3]\n",
    "a[1]\n",
    "\n",
    "for i in range(len(a)): \n",
    "    print(a[i])\n",
    "    \n",
    "    \n",
    "a = {\"a\": 1, \"b\":  2}\n",
    "a[\"d\"]"
   ]
  },
  {
   "cell_type": "code",
   "execution_count": null,
   "metadata": {
    "id": "NO3wg8XMWFuL",
    "outputId": "15733ebd-9183-4939-bed9-a2291a3de993"
   },
   "outputs": [
    {
     "name": "stdout",
     "output_type": "stream",
     "text": [
      "Hell\n"
     ]
    }
   ],
   "source": [
    "a = 2\n",
    "if a > 5:\n",
    "    print(a)\n",
    "else:\n",
    "    print(\"Hell\")"
   ]
  },
  {
   "cell_type": "markdown",
   "metadata": {
    "id": "Fq8e2vMTWFuL"
   },
   "source": [
    "### Manejando excepciones"
   ]
  },
  {
   "cell_type": "code",
   "execution_count": null,
   "metadata": {
    "id": "6cju5onqWFuL"
   },
   "outputs": [],
   "source": [
    "x = 10\n",
    "y = 0\n",
    "\n",
    "x / y"
   ]
  },
  {
   "cell_type": "code",
   "execution_count": null,
   "metadata": {
    "id": "U5h39kNQWFuM"
   },
   "outputs": [],
   "source": [
    "# Excepciones\n",
    "\n",
    "x = 10\n",
    "y = 0\n",
    "\n",
    "try: \n",
    "    print(x / y)\n",
    "except: \n",
    "    print(\"el denominador es cero, no existe la división\")\n",
    "\n"
   ]
  },
  {
   "cell_type": "code",
   "execution_count": null,
   "metadata": {
    "colab": {
     "base_uri": "https://localhost:8080/",
     "height": 131
    },
    "executionInfo": {
     "elapsed": 31,
     "status": "error",
     "timestamp": 1643071095619,
     "user": {
      "displayName": "Moises Ruben Gualapuro Gualapuro",
      "photoUrl": "https://lh3.googleusercontent.com/a-/AOh14GhnM7GOAImOpQM_TNfn7Mu6tKV3tLSAVaecNjFivzLgO0hXscBkodtLXbzHYTnJmvaKdB_XpABFGRQTP7J_YbSTRQkFuKXH8RGMB49lSbnS7_cdUFR3WA8s8jwODg3IXdAFjNac6bBLHTdEqRCEeQKovVgbaS5dUtN52xI6X4R6lrxBkv4FVNdS0Ug3UFgbjFPhxboPW_cSX0QRmVxFxHHlPellHuKMI0q5YYwid4SYQ6JtK40rgQKxCz7DzRlmxBLFa5KkqNPEb5td7U-zV36L5SOgCgMmd6-w2hqwqFV4zk2Aun3VwIQBjuOa4hTn1RWKHGQ2xVgz25slvncNabl8bJhsrGpHCU1m2CCl-PHTDP-CY7HoWUD4tRgpGVEthnEsrKq1V4nEREAhFYGdmFJMl5JSzAruhITaOt19KLlPBjsk0SfT3H4c3cubU1qwzxz2TeU976j_yzQ6Dz4oCDEl6mwOQOf83Rw583kG1s9S1wm8V6UGOJtjqkr-Yso_L9Uuz2fJZT4RAb74xQSEF11znWBlTRsCuF1cBNTr9yM_1X2tQl1M0mD0NUaZGACNEkKwQ3Xl4bYoryBj7nBRqQjocLi3KGbhtrcqq3uuGEsyHhHwz9QEnRpwwvueaPJYdyGQ7-Si6FfhCXDVeTFUR6RkjHEOcMf8nJXNorITmSITDDQoLIK32SfI21wPQzknznArq9oBmfvG6HquV9BXrfxxu0butTt8foLWgui45uo0PToepS-Zb3HvzMHftsHmsylwUw=s64",
      "userId": "00783441233645351804"
     },
     "user_tz": 300
    },
    "id": "7ZV62UZtWFuM",
    "outputId": "c208238b-b2a0-4ec9-993a-470549791c66"
   },
   "outputs": [
    {
     "ename": "SyntaxError",
     "evalue": "invalid syntax (Temp/ipykernel_25064/1411504887.py, line 3)",
     "output_type": "error",
     "traceback": [
      "\u001b[1;36m  File \u001b[1;32m\"C:\\Users\\MoisesG\\AppData\\Local\\Temp/ipykernel_25064/1411504887.py\"\u001b[1;36m, line \u001b[1;32m3\u001b[0m\n\u001b[1;33m    iterar en el respositorio:\u001b[0m\n\u001b[1;37m           ^\u001b[0m\n\u001b[1;31mSyntaxError\u001b[0m\u001b[1;31m:\u001b[0m invalid syntax\n"
     ]
    }
   ],
   "source": [
    "list = [\"gen1\", \"gen2\", \"gen3\", \"gen4\"]\n",
    "\n",
    "iterar en el respositorio: \n",
    "try: \n",
    "    conexxion remota\n",
    "except:\n",
    "  print(\"Gen no se encuentra en el repositorio d GenBank\")\n",
    "  next()"
   ]
  },
  {
   "cell_type": "markdown",
   "metadata": {
    "id": "odJIwQPMWFuM"
   },
   "source": [
    "# Objetos\n",
    "\n",
    "* Un objeto en Python es una abstracción que:\n",
    "    * Tiene un tipo determinado.\n",
    "    * Contiene una representación interna de cirtos datos.\n",
    "        * a través de los atributos\n",
    "    * Provee una interfaz para interactuar con el objeto.\n",
    "        * a través de los metos\n",
    "* Un objeto, a través de los métodos, definine su comportamiento, pero oculta la implementación.\n",
    "    * Es un método de juntar unos datos y unos métodos.\n",
    "* Un objeto es una instancia de un tipo (o clase).\n",
    "    * `3` es una instancia de `int`\n",
    "    * `\"hola\"` es una instancia de `str`\n",
    "* Podemos saber el tipo de un objeto a través de la función `type()`\n",
    "* Podemos comprobar si un objeto es de un cierto tipo utilizando la funcion `isinstance()`"
   ]
  },
  {
   "cell_type": "markdown",
   "metadata": {
    "id": "XnQiq0nK04hm"
   },
   "source": [
    "1. Crear el modulo poblacionmendeliana\n",
    "2. Guardar las funciones de i) generación de la población, ii) conteo de frecuencias de alelos, y iii) reproducción de la población en el módulo del itemm (1). Cada función tiene que tener una explicación.\n",
    "3. Generar las poblaciones hasta la generación 500. \n",
    "4. Calcular las proporciones de AA, Aa, aA, aa de todas las generaciones. \n",
    "5. Generar el repositorio tarea6 con un README. \n",
    "6. Pegar el enlace del repositorio en Moodle"
   ]
  },
  {
   "cell_type": "code",
   "execution_count": null,
   "metadata": {
    "id": "9VI1DiBaWFuM"
   },
   "outputs": [],
   "source": [
    "a = 3\n",
    "print(type(a))\n",
    "\n",
    "b = \"hola\"\n",
    "print(type(b))\n",
    "\n",
    "c = [1, 2, 3]\n",
    "print(type(c))"
   ]
  },
  {
   "cell_type": "code",
   "execution_count": null,
   "metadata": {
    "id": "_Ua3CSNWWFuM"
   },
   "outputs": [],
   "source": [
    "print(isinstance(a, int))\n",
    "print(isinstance(a, str))\n",
    "print(isinstance(a, list))"
   ]
  },
  {
   "cell_type": "markdown",
   "metadata": {
    "id": "CUedM047WFuN"
   },
   "source": [
    "## Objetos y Clases\n",
    "\n",
    "* Un objeto es una instancia de una clase\n",
    "* Una clase es un nuevo tipo de datos\n",
    "* Para crear una clase en Python se utiliza la keyword `class`:\n",
    "```python\n",
    "class Clase(ClasePadre):\n",
    "    \"\"\"Docstring\"\"\"\n",
    "    statements\n",
    "```\n",
    "* Normalmente, las sentencias dentro de una clase serán las definciones de atributos (variables) y métodos (funciones).\n",
    "* Una clase puede heredar de una clase padre, heredando todos sus atributos y metodos.\n",
    "* La herencia es opcional, *pero*:\n",
    "    * En Python2 es conveniente heredar *siempre* de la clase `object`\n",
    "    * En Python3 no hace falta heredar de la clase `object`\n",
    "    * Para tratar de garantizar la compatibilidad, podemos heradar siempre de `object`.\n",
    "* En Python las clases no tienen un constructor, pero existe el método `__init__` que se utiliza para inicializar la misma.\n",
    "* Todos los métodos de una clase deben tener como primer argumento `self`, que se igualará de forma automática con la referencia al propio objeto cuando se invoque el método."
   ]
  },
  {
   "cell_type": "code",
   "execution_count": null,
   "metadata": {
    "id": "rzNxfvdQWFuN"
   },
   "outputs": [],
   "source": [
    "class Coordinate(object):  # Clase\n",
    "    \"\"\"A coordinate with an x and y value.\"\"\"\n",
    "    \n",
    "    def __init__(self, x, y):\n",
    "        \"\"\"Initialize the object with x and y\"\"\"\n",
    "        self.x = x\n",
    "        self.y = y\n",
    "        \n",
    "help(Coordinate)  # Todo en Python es un objeto\n",
    "        \n",
    "c = Coordinate(3, 4)  # creo un objeto de la clase Coordenada\n",
    "d = Coordinate(-2, 1)  # creo un objeto de la clase Coordenada\n",
    "print(type(c))  # c contiene una referencia al objeto\n"
   ]
  },
  {
   "cell_type": "code",
   "execution_count": null,
   "metadata": {
    "id": "1IkStkY-wYXV"
   },
   "outputs": [],
   "source": [
    "listc = [c.x, c.y]\n",
    "listc"
   ]
  },
  {
   "cell_type": "markdown",
   "metadata": {
    "id": "Cj09-fd7WFuN"
   },
   "source": [
    "## Métodos\n",
    "\n",
    "* Un método es una función que funciona en el contexto de la clase.\n",
    "* Cuando se invoca un método de un objeto, Python siempre pasa como primer argumento la referencia al objeto.\n",
    "* La convención es llamar a este primer argumento `self`."
   ]
  },
  {
   "cell_type": "code",
   "execution_count": null,
   "metadata": {
    "id": "i6ZtV1fgWFuN"
   },
   "outputs": [],
   "source": [
    "class Coordinate(object):  # Clase\n",
    "    \"\"\"A coordinate with an x and y value.\"\"\"\n",
    "    \n",
    "    def __init__(self, x, y):\n",
    "        \"\"\"Initialize the object with x and y\"\"\"\n",
    "        self.x = x\n",
    "        self.y = y\n",
    "        \n",
    "    def distance(self, other):\n",
    "        \"\"\" Returns the euclidean distance between two points \"\"\"\n",
    "        x_diff_sq = (self.x - other.x)**2\n",
    "        y_diff_sq = (self.y - other.y)**2\n",
    "        \n",
    "        return (x_diff_sq + y_diff_sq)**0.5 "
   ]
  },
  {
   "cell_type": "code",
   "execution_count": null,
   "metadata": {
    "colab": {
     "background_save": true
    },
    "id": "2BCQvvNJWFuN"
   },
   "outputs": [],
   "source": [
    "c = Coordinate(1, 2)\n",
    "d = Coordinate(7, 9)\n",
    "\n",
    "c.distance(d)"
   ]
  },
  {
   "cell_type": "markdown",
   "metadata": {
    "id": "A1jnUkXXWFuO"
   },
   "source": [
    "### Métodos especiales\n",
    "\n",
    "* Hay algunos [métodos especiales](https://docs.python.org/3/reference/datamodel.html#special-method-names) que Python invoca cuando se realizan ciertas operationes.\n",
    "    * Por ejemplo cuando se suman dos objetos\n",
    "    * O cuando se imprime un objeto."
   ]
  },
  {
   "cell_type": "code",
   "execution_count": null,
   "metadata": {
    "id": "KgOUCEE6WFuO"
   },
   "outputs": [],
   "source": [
    "# Ejemplo: imprimir el objeto\n",
    "\n",
    "print(c)"
   ]
  },
  {
   "cell_type": "markdown",
   "metadata": {
    "id": "mIhoSd1mWFuO"
   },
   "source": [
    "* Podemos sobreescribir esos métodos para realizar la acción que nosotros queramos\n",
    "    * Por ejemplo, mostrar información sobre el propio objeto cuando se imprime, sobreescribiendo el método `__str__`"
   ]
  },
  {
   "cell_type": "code",
   "execution_count": null,
   "metadata": {
    "id": "Q8SXdYwhWFuO"
   },
   "outputs": [],
   "source": [
    "class Coordinate(object):  # Clase\n",
    "    \"\"\"A coordinate with an x and y value.\"\"\"\n",
    "    \n",
    "    def __init__(self, x, y):\n",
    "        \"\"\"Initialize the object with x and y\"\"\"\n",
    "        self.x = x\n",
    "        self.y = y\n",
    "        \n",
    "    def distance(self, other):\n",
    "        \"\"\" Returns the euclidean distance between two points \"\"\"\n",
    "        x_diff_sq = (self.x - other.x)**2\n",
    "        y_diff_sq = (self.y - other.y)**2\n",
    "        \n",
    "        return (x_diff_sq + y_diff_sq)**0.5\n",
    "    \n",
    "    def __str__(self):\n",
    "        return \"<Coordinate (\" + str(self.x) + \", \" + str(self.y) + \")>\""
   ]
  },
  {
   "cell_type": "code",
   "execution_count": null,
   "metadata": {
    "id": "XozTs0vJWFuP"
   },
   "outputs": [],
   "source": [
    "c = Coordinate(4, 7)\n",
    "print(c)"
   ]
  },
  {
   "cell_type": "markdown",
   "metadata": {
    "id": "4fb5JDD2WFuP"
   },
   "source": [
    "Ejemplos de otros métodos:\n",
    " * `__add__(self, other)`: `self + other` \n",
    " * `__sub__(self, other)`: `self - other`\n",
    " * `__eq__(self, other)`: `self == other`\n",
    " * `__lt__(self, other)`: `self < other`\n",
    " * `__len__(self)`: `len(self)`\n",
    " * `__str__(self)`: `print self`"
   ]
  },
  {
   "cell_type": "code",
   "execution_count": null,
   "metadata": {
    "id": "MBSbyj_6WFuP"
   },
   "outputs": [],
   "source": [
    "class Coordinate(object):  # Clase\n",
    "    \"\"\"A coordinate with an x and y value.\"\"\"\n",
    "    \n",
    "    def __init__(self, x, y):\n",
    "        \"\"\"Initialize the object with x and y\"\"\"\n",
    "        self.x = x\n",
    "        self.y = y\n",
    "        \n",
    "    def distance(self, other):\n",
    "        \"\"\" Returns the euclidean distance between two points \"\"\"\n",
    "        x_diff_sq = (self.x - other.x)**2\n",
    "        y_diff_sq = (self.y - other.y)**2\n",
    "        \n",
    "        return (x_diff_sq + y_diff_sq)**0.5\n",
    "    \n",
    "    def __str__(self):\n",
    "        return \"<Coordinate (\" + str(self.x) + \", \" + str(self.y) + \")>\"\n",
    "    \n",
    "    def __add__(self, other):\n",
    "        return Coordinate(self.x + other.x, self.y + other.y)\n",
    "    \n",
    "c = Coordinate(5, 4)\n",
    "d = Coordinate(3, 3)\n",
    "e = c + d\n",
    "print(e)"
   ]
  },
  {
   "cell_type": "markdown",
   "metadata": {
    "id": "UIPjnj-sWFuQ"
   },
   "source": [
    "## Herencia\n",
    "\n",
    "* Una clase puede heredar de otras clases.\n",
    "* Podemos definir una jerarquía de clases padre e hijo.\n",
    "* Una clase hijo hereda todos los atributos y métodos de las clases padre\n",
    "* Una clase hijo puede añadir más atributos y métodos, o reemplazar algunos."
   ]
  },
  {
   "cell_type": "code",
   "execution_count": null,
   "metadata": {
    "id": "zsuD3Jf4WFuQ"
   },
   "outputs": [],
   "source": [
    "class Animal(object):\n",
    "    species = None\n",
    "    \n",
    "    def __init__(self, age, name):\n",
    "        self.age = age\n",
    "        self.name = name\n",
    "        \n",
    "    def make_noise(self):\n",
    "        print(\"I do not know which animal I am, I cannot make noise!\")\n",
    "        \n",
    "    def __str__(self):\n",
    "        return \"<Animal of species \"+self.species+\" named \"+self.name+\">\"\n",
    "    \n",
    "    \n",
    "class Rabbit(Animal):\n",
    "    species = \"Rabbit\"\n",
    "    \n",
    "    def is_furry(self):\n",
    "        return True\n",
    "\n",
    "    def make_noise(self):\n",
    "        print(\"Rabbits do not make noise\")\n",
    "\n",
    "    \n",
    "class Cow(Animal):\n",
    "    species = \"Cow\"\n",
    "    \n",
    "    def make_noise(self):\n",
    "        print(\"Mooo\")\n",
    "        \n",
    "r = Rabbit(5, \"flufy\")\n",
    "c = Cow(1, \"foo\")\n",
    "\n",
    "r.make_noise()\n",
    "c.make_noise()"
   ]
  },
  {
   "cell_type": "markdown",
   "metadata": {
    "id": "WTjGTG8pWFuQ"
   },
   "source": [
    "* Se puede llamar a los métodos de la clase padre mediante la función `super`"
   ]
  },
  {
   "cell_type": "code",
   "execution_count": null,
   "metadata": {
    "id": "1CynXJh4WFuQ"
   },
   "outputs": [],
   "source": [
    "class StrangeAnimal(Animal):\n",
    "    species = \"unknown\"\n",
    "    \n",
    "    def __init__(self, age, name, attribute):\n",
    "        super(StrangeAnimal, self).__init__(age, name)"
   ]
  },
  {
   "cell_type": "code",
   "execution_count": null,
   "metadata": {
    "id": "4sugklRHWFuR"
   },
   "outputs": [],
   "source": [
    "s = StrangeAnimal(10, \"foo\", \"bar\")\n",
    "print(s)"
   ]
  },
  {
   "cell_type": "markdown",
   "metadata": {
    "id": "2-iJeQpcWFuR"
   },
   "source": [
    "Crear una clase `Fraccion` que implemente la representación de un número como una fracción (i.e. numerador/denominador).\n",
    "\n",
    "Debe implementar los siguientes métodos:\n",
    "* Suma\n",
    "* Resta\n",
    "* Multiplicación\n",
    "* Inversa\n",
    "* Imprimir su representación\n",
    "* Extra: Posibilidad de convertir el objeto a flotante."
   ]
  },
  {
   "cell_type": "code",
   "execution_count": null,
   "metadata": {
    "id": "W_ZMz5olWFuR"
   },
   "outputs": [],
   "source": []
  },
  {
   "cell_type": "markdown",
   "metadata": {
    "id": "7gzEe9WkWFuR"
   },
   "source": [
    "A partir del código siguiente se pide"
   ]
  },
  {
   "cell_type": "code",
   "execution_count": null,
   "metadata": {
    "id": "Lgpe8tyvWFuR"
   },
   "outputs": [],
   "source": [
    "import math\n",
    "\n",
    "class Shape(object):\n",
    "    \"\"\"A generic shape object.\"\"\"\n",
    "    \n",
    "    def area(self):\n",
    "        \"\"\"Return area of the shape.\"\"\"\n",
    "        pass\n",
    "    \n",
    "    def perimeter(self):\n",
    "        \"\"\"Return perimeter of the shape.\"\"\"\n",
    "        pass"
   ]
  },
  {
   "cell_type": "markdown",
   "metadata": {
    "id": "AH0yvPl9WFuR"
   },
   "source": [
    "Implementar las clases `Square`, `Rectangle` y  `Circle`, sobreescribiendo los métodos `area` y `perimeter` para que muestren los resultados correctos"
   ]
  },
  {
   "cell_type": "code",
   "execution_count": null,
   "metadata": {
    "id": "w1GFMkB_WFuR"
   },
   "outputs": [],
   "source": []
  },
  {
   "cell_type": "markdown",
   "metadata": {
    "id": "K8yPpQAjWFuS"
   },
   "source": [
    "Implementar las operaciones de suma, resta, y multiplicación, suponiendo que la suma, resta y multiplicación solo se puede realizar entre objetos del mismo tipo, y que la operación se realiza sobre sus dimensiones (es decir, la suma de dos círculos se realiza sumando sus radios de su circunferencia."
   ]
  },
  {
   "cell_type": "code",
   "execution_count": null,
   "metadata": {
    "id": "OpCHI6niWFuS"
   },
   "outputs": [],
   "source": []
  }
 ],
 "metadata": {
  "colab": {
   "collapsed_sections": [
    "plhrzog1WFtx",
    "dqfn3SZ5WFt3",
    "Fq8e2vMTWFuL",
    "CUedM047WFuN"
   ],
   "provenance": []
  },
  "kernelspec": {
   "display_name": "Python 3 (ipykernel)",
   "language": "python",
   "name": "python3"
  },
  "language_info": {
   "codemirror_mode": {
    "name": "ipython",
    "version": 3
   },
   "file_extension": ".py",
   "mimetype": "text/x-python",
   "name": "python",
   "nbconvert_exporter": "python",
   "pygments_lexer": "ipython3",
   "version": "3.9.7"
  },
  "latex_envs": {
   "LaTeX_envs_menu_present": true,
   "autoclose": false,
   "autocomplete": true,
   "bibliofile": "biblio.bib",
   "cite_by": "apalike",
   "current_citInitial": 1,
   "eqLabelWithNumbers": true,
   "eqNumInitial": 1,
   "hotkeys": {
    "equation": "Ctrl-E",
    "itemize": "Ctrl-I"
   },
   "labels_anchors": false,
   "latex_user_defs": false,
   "report_style_numbering": false,
   "user_envs_cfg": false
  },
  "toc": {
   "base_numbering": 1,
   "nav_menu": {},
   "number_sections": true,
   "sideBar": true,
   "skip_h1_title": false,
   "title_cell": "Table of Contents",
   "title_sidebar": "Contents",
   "toc_cell": false,
   "toc_position": {},
   "toc_section_display": true,
   "toc_window_display": true
  },
  "varInspector": {
   "cols": {
    "lenName": 16,
    "lenType": 16,
    "lenVar": 40
   },
   "kernels_config": {
    "python": {
     "delete_cmd_postfix": "",
     "delete_cmd_prefix": "del ",
     "library": "var_list.py",
     "varRefreshCmd": "print(var_dic_list())"
    },
    "r": {
     "delete_cmd_postfix": ") ",
     "delete_cmd_prefix": "rm(",
     "library": "var_list.r",
     "varRefreshCmd": "cat(var_dic_list()) "
    }
   },
   "types_to_exclude": [
    "module",
    "function",
    "builtin_function_or_method",
    "instance",
    "_Feature"
   ],
   "window_display": false
  }
 },
 "nbformat": 4,
 "nbformat_minor": 1
}
