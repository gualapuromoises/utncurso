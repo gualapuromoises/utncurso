{
  "nbformat": 4,
  "nbformat_minor": 0,
  "metadata": {
    "colab": {
      "provenance": [],
      "authorship_tag": "ABX9TyOHEd89DXxWMhWgMBiJDsup",
      "include_colab_link": true
    },
    "kernelspec": {
      "name": "python3",
      "display_name": "Python 3"
    },
    "language_info": {
      "name": "python"
    },
    "gpuClass": "standard"
  },
  "cells": [
    {
      "cell_type": "markdown",
      "metadata": {
        "id": "view-in-github",
        "colab_type": "text"
      },
      "source": [
        "<a href=\"https://colab.research.google.com/github/gualapuromoises/utncurso/blob/main/L0_python_intro.ipynb\" target=\"_parent\"><img src=\"https://colab.research.google.com/assets/colab-badge.svg\" alt=\"Open In Colab\"/></a>"
      ]
    },
    {
      "cell_type": "markdown",
      "source": [
        "# CURSO UTN\n",
        "## **Módulo Python**\n",
        "\n",
        "Python es un lenguaje de programación ampliamente utilizado en las aplicaciones web, el desarrollo de software, la ciencia de datos y el machine learning (ML). Los desarrolladores utilizan Python porque es eficiente y fácil de aprender, además de que se puede ejecutar en muchas plataformas diferentes.\n"
      ],
      "metadata": {
        "id": "7r1l1sGOfwoy"
      }
    },
    {
      "cell_type": "code",
      "execution_count": null,
      "metadata": {
        "colab": {
          "base_uri": "https://localhost:8080/"
        },
        "id": "fs4Qdsnve7b_",
        "outputId": "e992b497-b781-481e-a354-51e71308290d"
      },
      "outputs": [
        {
          "output_type": "stream",
          "name": "stdout",
          "text": [
            "Ingrese una secuencia:ATCGATCGA\n",
            "Su secuencia es: \n",
            "ATCGATCGA\n",
            "tiene 9 nucléotidos\n"
          ]
        }
      ],
      "source": [
        "seq = input(\"Ingrese una secuencia:\")\n",
        "n = len(seq)\n",
        "print(\"Su secuencia es: \\n\" + seq +\"\\ntiene \" + str(n) + \" nucléotidos\")"
      ]
    },
    {
      "cell_type": "markdown",
      "source": [
        "En el bloque de código se pide al usuario que ingrese una secuencia y se calcula en número de nucleótidos que tiene ésta."
      ],
      "metadata": {
        "id": "UCwxgG2kjU7A"
      }
    },
    {
      "cell_type": "markdown",
      "source": [],
      "metadata": {
        "id": "jpVO9WArjh12"
      }
    }
  ]
}